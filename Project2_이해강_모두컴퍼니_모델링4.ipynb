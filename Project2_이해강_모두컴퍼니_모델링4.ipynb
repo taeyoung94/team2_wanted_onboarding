{
 "cells": [
  {
   "cell_type": "code",
   "execution_count": 113,
   "metadata": {},
   "outputs": [],
   "source": [
    "import pandas as pd\n",
    "import numpy as np\n",
    "import matplotlib.pyplot as plt\n",
    "import seaborn as sns\n",
    "\n",
    "# 경고창 무시\n",
    "import warnings\n",
    "warnings.filterwarnings(action='ignore')\n",
    "\n",
    "# matplotlib 한글 폰트 오류 해결\n",
    "import platform\n",
    "from matplotlib import font_manager, rc\n",
    "plt.rcParams['axes.unicode_minus'] = False\n",
    "\n",
    "if platform.system() == 'Darwin':\n",
    "    rc('font', family='appleGothic')\n",
    "elif platform.system() == 'Windows':\n",
    "    path = \"c:/Windows/Fonts/malgun.ttf\"\n",
    "    font_name = font_manager.FontProperties(fname=path).get_name()\n",
    "    rc('font', family=font_name)\n",
    "else:\n",
    "    print('Unknown system.... sorry.....')\n",
    "    \n",
    "# 랜덤 시드 생성\n",
    "np.random.seed(42)"
   ]
  },
  {
   "cell_type": "markdown",
   "metadata": {},
   "source": [
    "### 데이터 불러오기\n",
    "- 1) 원본데이터\n",
    "- 2) 교통량통합 데이터"
   ]
  },
  {
   "cell_type": "code",
   "execution_count": 114,
   "metadata": {
    "scrolled": false
   },
   "outputs": [],
   "source": [
    "data = pd.read_csv('실전db.csv',encoding='ansi')\n",
    "trans = pd.read_csv('교통량통합.csv',encoding='ansi')"
   ]
  },
  {
   "cell_type": "markdown",
   "metadata": {},
   "source": [
    "## --------------------------------------------------Feature Engineering----------------------------------------------------"
   ]
  },
  {
   "cell_type": "markdown",
   "metadata": {},
   "source": [
    "### 'DATE' 컬럼 datetime 변환 후, 교통량통합 데이터와 날짜를 key로 결합"
   ]
  },
  {
   "cell_type": "code",
   "execution_count": 115,
   "metadata": {},
   "outputs": [],
   "source": [
    "data['DATE']=pd.to_datetime(data['DATE'])\n",
    "trans['DATE'] = pd.to_datetime(trans['DATE'])\n",
    "\n",
    "ndata = pd.merge(data,trans, how='left', left_on='DATE', right_on='DATE')"
   ]
  },
  {
   "cell_type": "markdown",
   "metadata": {},
   "source": [
    "### '교통량합계' : MinMax Scaling (작은 숫자로 변환)\n",
    "### 'D_TYPE', 'GOODS_TYPE', 'AD1' : Label Encoding (범주형을 숫자형으로 변환)"
   ]
  },
  {
   "cell_type": "code",
   "execution_count": 116,
   "metadata": {},
   "outputs": [],
   "source": [
    "from sklearn import preprocessing\n",
    "\n",
    "ndata[['교통량합계']] = preprocessing.MinMaxScaler().fit(ndata[['교통량합계']]).transform(ndata[['교통량합계']])\n",
    "\n",
    "le = preprocessing.LabelEncoder()\n",
    "\n",
    "ndata['D_TYPE'] = le.fit_transform(ndata['D_TYPE'])\n",
    "ndata['GOODS_TYPE'] = le.fit_transform(ndata['GOODS_TYPE'])\n",
    "ndata['AD1'] = le.fit_transform(ndata['AD1'])"
   ]
  },
  {
   "cell_type": "markdown",
   "metadata": {},
   "source": [
    "### 유저가 몇번 결재했는지 알려주는 '결제건수' 컬럼 생성 (우량고객 관리 차원)"
   ]
  },
  {
   "cell_type": "code",
   "execution_count": 117,
   "metadata": {},
   "outputs": [],
   "source": [
    "u_ndata = ndata['USER_ID'].value_counts().to_frame()\n",
    "u_ndata.reset_index(inplace = True)\n",
    "u_ndata.columns = ['USER_ID','결제건수']\n",
    "ndata = pd.merge(ndata, u_ndata, how='left', left_on='USER_ID', right_on='USER_ID')"
   ]
  },
  {
   "cell_type": "markdown",
   "metadata": {},
   "source": [
    "### '월', '일', '요일' 컬럼 생성\n",
    "* 요일 : {월:0, 화:1, 수:2, 목:3, 금:4, 토:5, 일:6}"
   ]
  },
  {
   "cell_type": "code",
   "execution_count": 118,
   "metadata": {},
   "outputs": [],
   "source": [
    "ndata['Month'] = [k for k in ndata['DATE'].dt.month]\n",
    "ndata['Day'] = [k for k in ndata['DATE'].dt.day]\n",
    "ndata['dayofweek'] = [k for k in ndata['DATE'].dt.dayofweek]"
   ]
  },
  {
   "cell_type": "markdown",
   "metadata": {},
   "source": [
    "### 'holiday' 컬럼 생성 (구매량 적은 일요일 + 공휴일)"
   ]
  },
  {
   "cell_type": "markdown",
   "metadata": {},
   "source": [
    "# 2020년 holiday 지정\n",
    "import pandas as pd\n",
    "from pandas.tseries.holiday import AbstractHolidayCalendar, Holiday\n",
    "\n",
    "class Calendar(AbstractHolidayCalendar):\n",
    "    rules = [\n",
    "        Holiday('New Year', month=1, day=1),\n",
    "        Holiday('KR_New Year1', month=1, day=24),\n",
    "        Holiday('KR_New Year2', month=1, day=25),\n",
    "        Holiday('KR_New Year3', month=1, day=26),\n",
    "        Holiday('3.1', month=3, day=1),\n",
    "        Holiday('Buddha Day', month=4, day=30),\n",
    "        Holiday('Memorial Day', month=6, day=6),\n",
    "        Holiday('Liberation Day', month=8, day=15),\n",
    "        Holiday('KR_Thanksgiving1', month=9, day=30),\n",
    "        Holiday('KR_Thanksgiving2', month=10, day=1),\n",
    "        Holiday('KR_Thanksgiving3', month=10, day=2),\n",
    "        Holiday('National Foundation Day', month=10, day=3),\n",
    "        Holiday('Hangul Day', month=10, day=9),\n",
    "        Holiday('Christmas', month=12, day=25)\n",
    "    ]\n",
    "dr = pd.date_range(start='2020-01-01', end='2020-12-31')\n",
    "cal = Calendar()\n",
    "holidays = cal.holidays(start=dr.min(), end=dr.max())\n",
    "ndata['Holiday'] = ndata['DATE'].isin(holidays)\n",
    "\n",
    "# 일요일도 holiday로\n",
    "for i in range(len(ndata)):\n",
    "    if ndata['Day'][i] == 6:\n",
    "        ndata['Holiday'][i] = True"
   ]
  },
  {
   "cell_type": "markdown",
   "metadata": {},
   "source": [
    "### 'Weekend_indi' 컬럼 생성 (구매량 많은 금요일+토요일)"
   ]
  },
  {
   "cell_type": "markdown",
   "metadata": {},
   "source": [
    "ndata['Weekend_indi'] = 0\n",
    "ndata['EveryDay'] = ndata.loc[ndata['Day'].isin([4,5]), 'Weekend_indi'] =1"
   ]
  },
  {
   "cell_type": "markdown",
   "metadata": {},
   "source": [
    "### 불필요한 컬럼 삭제"
   ]
  },
  {
   "cell_type": "code",
   "execution_count": 119,
   "metadata": {},
   "outputs": [],
   "source": [
    "ndata.drop(['USER_ID','JOIN_DATE','STORE_ID'],axis=1,inplace=True)"
   ]
  },
  {
   "cell_type": "markdown",
   "metadata": {},
   "source": [
    "## ---------------------------------------------------train, test data 분리-----------------------------------------------------"
   ]
  },
  {
   "cell_type": "markdown",
   "metadata": {},
   "source": [
    "### 학습(1-9월)과 테스트(10-12월) 데이터 나누기"
   ]
  },
  {
   "cell_type": "code",
   "execution_count": 120,
   "metadata": {},
   "outputs": [],
   "source": [
    "# 날짜로 자르기 위해 'DATE'를 인덱스로 설정\n",
    "ndata.set_index('DATE',inplace=True)\n",
    "\n",
    "# 데이터 분리\n",
    "train = ndata.loc[:'2020-09-30']\n",
    "test = ndata.loc['2020-10-01':]\n",
    "\n",
    "# 인덱스 리셋 후 'DATE' 컬럼 삭제\n",
    "train.reset_index(drop=True,inplace=True)\n",
    "test.reset_index(drop=True,inplace=True)"
   ]
  },
  {
   "cell_type": "markdown",
   "metadata": {},
   "source": [
    "### X(독립변수)와 Y(종속변수)로 분리"
   ]
  },
  {
   "cell_type": "code",
   "execution_count": 121,
   "metadata": {},
   "outputs": [],
   "source": [
    "train_X = train.drop('COUNT',axis=1)\n",
    "train_y = train[['COUNT']]\n",
    "\n",
    "test_X = test.drop('COUNT',axis=1)\n",
    "test_y = test[['COUNT']]"
   ]
  },
  {
   "cell_type": "code",
   "execution_count": 122,
   "metadata": {},
   "outputs": [
    {
     "data": {
      "text/html": [
       "<div>\n",
       "<style scoped>\n",
       "    .dataframe tbody tr th:only-of-type {\n",
       "        vertical-align: middle;\n",
       "    }\n",
       "\n",
       "    .dataframe tbody tr th {\n",
       "        vertical-align: top;\n",
       "    }\n",
       "\n",
       "    .dataframe thead th {\n",
       "        text-align: right;\n",
       "    }\n",
       "</style>\n",
       "<table border=\"1\" class=\"dataframe\">\n",
       "  <thead>\n",
       "    <tr style=\"text-align: right;\">\n",
       "      <th></th>\n",
       "      <th>D_TYPE</th>\n",
       "      <th>GOODS_TYPE</th>\n",
       "      <th>AD1</th>\n",
       "      <th>교통량합계</th>\n",
       "      <th>결제건수</th>\n",
       "      <th>Month</th>\n",
       "      <th>Day</th>\n",
       "      <th>dayofweek</th>\n",
       "    </tr>\n",
       "  </thead>\n",
       "  <tbody>\n",
       "    <tr>\n",
       "      <th>0</th>\n",
       "      <td>0</td>\n",
       "      <td>0</td>\n",
       "      <td>40</td>\n",
       "      <td>0.361192</td>\n",
       "      <td>1</td>\n",
       "      <td>1</td>\n",
       "      <td>1</td>\n",
       "      <td>2</td>\n",
       "    </tr>\n",
       "    <tr>\n",
       "      <th>1</th>\n",
       "      <td>1</td>\n",
       "      <td>0</td>\n",
       "      <td>50</td>\n",
       "      <td>0.361192</td>\n",
       "      <td>2</td>\n",
       "      <td>1</td>\n",
       "      <td>1</td>\n",
       "      <td>2</td>\n",
       "    </tr>\n",
       "    <tr>\n",
       "      <th>2</th>\n",
       "      <td>1</td>\n",
       "      <td>0</td>\n",
       "      <td>64</td>\n",
       "      <td>0.361192</td>\n",
       "      <td>3</td>\n",
       "      <td>1</td>\n",
       "      <td>1</td>\n",
       "      <td>2</td>\n",
       "    </tr>\n",
       "    <tr>\n",
       "      <th>3</th>\n",
       "      <td>1</td>\n",
       "      <td>2</td>\n",
       "      <td>53</td>\n",
       "      <td>0.361192</td>\n",
       "      <td>30</td>\n",
       "      <td>1</td>\n",
       "      <td>1</td>\n",
       "      <td>2</td>\n",
       "    </tr>\n",
       "    <tr>\n",
       "      <th>4</th>\n",
       "      <td>0</td>\n",
       "      <td>2</td>\n",
       "      <td>52</td>\n",
       "      <td>0.361192</td>\n",
       "      <td>3</td>\n",
       "      <td>1</td>\n",
       "      <td>1</td>\n",
       "      <td>2</td>\n",
       "    </tr>\n",
       "    <tr>\n",
       "      <th>...</th>\n",
       "      <td>...</td>\n",
       "      <td>...</td>\n",
       "      <td>...</td>\n",
       "      <td>...</td>\n",
       "      <td>...</td>\n",
       "      <td>...</td>\n",
       "      <td>...</td>\n",
       "      <td>...</td>\n",
       "    </tr>\n",
       "    <tr>\n",
       "      <th>623574</th>\n",
       "      <td>1</td>\n",
       "      <td>1</td>\n",
       "      <td>40</td>\n",
       "      <td>0.316042</td>\n",
       "      <td>4</td>\n",
       "      <td>9</td>\n",
       "      <td>30</td>\n",
       "      <td>2</td>\n",
       "    </tr>\n",
       "    <tr>\n",
       "      <th>623575</th>\n",
       "      <td>0</td>\n",
       "      <td>1</td>\n",
       "      <td>53</td>\n",
       "      <td>0.316042</td>\n",
       "      <td>1</td>\n",
       "      <td>9</td>\n",
       "      <td>30</td>\n",
       "      <td>2</td>\n",
       "    </tr>\n",
       "    <tr>\n",
       "      <th>623576</th>\n",
       "      <td>0</td>\n",
       "      <td>1</td>\n",
       "      <td>4</td>\n",
       "      <td>0.316042</td>\n",
       "      <td>1</td>\n",
       "      <td>9</td>\n",
       "      <td>30</td>\n",
       "      <td>2</td>\n",
       "    </tr>\n",
       "    <tr>\n",
       "      <th>623577</th>\n",
       "      <td>1</td>\n",
       "      <td>0</td>\n",
       "      <td>52</td>\n",
       "      <td>0.316042</td>\n",
       "      <td>1</td>\n",
       "      <td>9</td>\n",
       "      <td>30</td>\n",
       "      <td>2</td>\n",
       "    </tr>\n",
       "    <tr>\n",
       "      <th>623578</th>\n",
       "      <td>0</td>\n",
       "      <td>0</td>\n",
       "      <td>64</td>\n",
       "      <td>0.316042</td>\n",
       "      <td>2</td>\n",
       "      <td>9</td>\n",
       "      <td>30</td>\n",
       "      <td>2</td>\n",
       "    </tr>\n",
       "  </tbody>\n",
       "</table>\n",
       "<p>623579 rows × 8 columns</p>\n",
       "</div>"
      ],
      "text/plain": [
       "        D_TYPE  GOODS_TYPE  AD1     교통량합계  결제건수  Month  Day  dayofweek\n",
       "0            0           0   40  0.361192     1      1    1          2\n",
       "1            1           0   50  0.361192     2      1    1          2\n",
       "2            1           0   64  0.361192     3      1    1          2\n",
       "3            1           2   53  0.361192    30      1    1          2\n",
       "4            0           2   52  0.361192     3      1    1          2\n",
       "...        ...         ...  ...       ...   ...    ...  ...        ...\n",
       "623574       1           1   40  0.316042     4      9   30          2\n",
       "623575       0           1   53  0.316042     1      9   30          2\n",
       "623576       0           1    4  0.316042     1      9   30          2\n",
       "623577       1           0   52  0.316042     1      9   30          2\n",
       "623578       0           0   64  0.316042     2      9   30          2\n",
       "\n",
       "[623579 rows x 8 columns]"
      ]
     },
     "metadata": {},
     "output_type": "display_data"
    },
    {
     "data": {
      "text/html": [
       "<div>\n",
       "<style scoped>\n",
       "    .dataframe tbody tr th:only-of-type {\n",
       "        vertical-align: middle;\n",
       "    }\n",
       "\n",
       "    .dataframe tbody tr th {\n",
       "        vertical-align: top;\n",
       "    }\n",
       "\n",
       "    .dataframe thead th {\n",
       "        text-align: right;\n",
       "    }\n",
       "</style>\n",
       "<table border=\"1\" class=\"dataframe\">\n",
       "  <thead>\n",
       "    <tr style=\"text-align: right;\">\n",
       "      <th></th>\n",
       "      <th>D_TYPE</th>\n",
       "      <th>GOODS_TYPE</th>\n",
       "      <th>AD1</th>\n",
       "      <th>교통량합계</th>\n",
       "      <th>결제건수</th>\n",
       "      <th>Month</th>\n",
       "      <th>Day</th>\n",
       "      <th>dayofweek</th>\n",
       "    </tr>\n",
       "  </thead>\n",
       "  <tbody>\n",
       "    <tr>\n",
       "      <th>0</th>\n",
       "      <td>0</td>\n",
       "      <td>0</td>\n",
       "      <td>52</td>\n",
       "      <td>0.264088</td>\n",
       "      <td>1</td>\n",
       "      <td>10</td>\n",
       "      <td>1</td>\n",
       "      <td>3</td>\n",
       "    </tr>\n",
       "    <tr>\n",
       "      <th>1</th>\n",
       "      <td>1</td>\n",
       "      <td>3</td>\n",
       "      <td>50</td>\n",
       "      <td>0.264088</td>\n",
       "      <td>2</td>\n",
       "      <td>10</td>\n",
       "      <td>1</td>\n",
       "      <td>3</td>\n",
       "    </tr>\n",
       "    <tr>\n",
       "      <th>2</th>\n",
       "      <td>1</td>\n",
       "      <td>0</td>\n",
       "      <td>52</td>\n",
       "      <td>0.264088</td>\n",
       "      <td>2</td>\n",
       "      <td>10</td>\n",
       "      <td>1</td>\n",
       "      <td>3</td>\n",
       "    </tr>\n",
       "    <tr>\n",
       "      <th>3</th>\n",
       "      <td>1</td>\n",
       "      <td>0</td>\n",
       "      <td>22</td>\n",
       "      <td>0.264088</td>\n",
       "      <td>10</td>\n",
       "      <td>10</td>\n",
       "      <td>1</td>\n",
       "      <td>3</td>\n",
       "    </tr>\n",
       "    <tr>\n",
       "      <th>4</th>\n",
       "      <td>0</td>\n",
       "      <td>0</td>\n",
       "      <td>65</td>\n",
       "      <td>0.264088</td>\n",
       "      <td>2</td>\n",
       "      <td>10</td>\n",
       "      <td>1</td>\n",
       "      <td>3</td>\n",
       "    </tr>\n",
       "    <tr>\n",
       "      <th>...</th>\n",
       "      <td>...</td>\n",
       "      <td>...</td>\n",
       "      <td>...</td>\n",
       "      <td>...</td>\n",
       "      <td>...</td>\n",
       "      <td>...</td>\n",
       "      <td>...</td>\n",
       "      <td>...</td>\n",
       "    </tr>\n",
       "    <tr>\n",
       "      <th>255687</th>\n",
       "      <td>1</td>\n",
       "      <td>1</td>\n",
       "      <td>40</td>\n",
       "      <td>0.563915</td>\n",
       "      <td>1</td>\n",
       "      <td>12</td>\n",
       "      <td>31</td>\n",
       "      <td>3</td>\n",
       "    </tr>\n",
       "    <tr>\n",
       "      <th>255688</th>\n",
       "      <td>1</td>\n",
       "      <td>1</td>\n",
       "      <td>19</td>\n",
       "      <td>0.563915</td>\n",
       "      <td>1</td>\n",
       "      <td>12</td>\n",
       "      <td>31</td>\n",
       "      <td>3</td>\n",
       "    </tr>\n",
       "    <tr>\n",
       "      <th>255689</th>\n",
       "      <td>0</td>\n",
       "      <td>1</td>\n",
       "      <td>52</td>\n",
       "      <td>0.563915</td>\n",
       "      <td>1</td>\n",
       "      <td>12</td>\n",
       "      <td>31</td>\n",
       "      <td>3</td>\n",
       "    </tr>\n",
       "    <tr>\n",
       "      <th>255690</th>\n",
       "      <td>1</td>\n",
       "      <td>1</td>\n",
       "      <td>50</td>\n",
       "      <td>0.563915</td>\n",
       "      <td>1</td>\n",
       "      <td>12</td>\n",
       "      <td>31</td>\n",
       "      <td>3</td>\n",
       "    </tr>\n",
       "    <tr>\n",
       "      <th>255691</th>\n",
       "      <td>0</td>\n",
       "      <td>1</td>\n",
       "      <td>64</td>\n",
       "      <td>0.563915</td>\n",
       "      <td>1</td>\n",
       "      <td>12</td>\n",
       "      <td>31</td>\n",
       "      <td>3</td>\n",
       "    </tr>\n",
       "  </tbody>\n",
       "</table>\n",
       "<p>255692 rows × 8 columns</p>\n",
       "</div>"
      ],
      "text/plain": [
       "        D_TYPE  GOODS_TYPE  AD1     교통량합계  결제건수  Month  Day  dayofweek\n",
       "0            0           0   52  0.264088     1     10    1          3\n",
       "1            1           3   50  0.264088     2     10    1          3\n",
       "2            1           0   52  0.264088     2     10    1          3\n",
       "3            1           0   22  0.264088    10     10    1          3\n",
       "4            0           0   65  0.264088     2     10    1          3\n",
       "...        ...         ...  ...       ...   ...    ...  ...        ...\n",
       "255687       1           1   40  0.563915     1     12   31          3\n",
       "255688       1           1   19  0.563915     1     12   31          3\n",
       "255689       0           1   52  0.563915     1     12   31          3\n",
       "255690       1           1   50  0.563915     1     12   31          3\n",
       "255691       0           1   64  0.563915     1     12   31          3\n",
       "\n",
       "[255692 rows x 8 columns]"
      ]
     },
     "metadata": {},
     "output_type": "display_data"
    }
   ],
   "source": [
    "display(train_X, test_X)"
   ]
  },
  {
   "cell_type": "markdown",
   "metadata": {},
   "source": [
    "## ------------------------------------------------------------모델링--------------------------------------------------------------"
   ]
  },
  {
   "cell_type": "markdown",
   "metadata": {},
   "source": [
    "### 랜덤포레스트 모델링"
   ]
  },
  {
   "cell_type": "code",
   "execution_count": 108,
   "metadata": {},
   "outputs": [
    {
     "name": "stdout",
     "output_type": "stream",
     "text": [
      "MSE : 0.09719544020119382\n",
      "MAE : 0.0536836780882514\n"
     ]
    }
   ],
   "source": [
    "from sklearn.ensemble import RandomForestRegressor\n",
    "from sklearn.metrics import mean_squared_error, mean_absolute_error\n",
    "\n",
    "rfr = RandomForestRegressor()\n",
    "    \n",
    "rfr.fit(train_X, train_y)\n",
    "    \n",
    "y_pred = rfr.predict(test_X)\n",
    "\n",
    "MSE = mean_squared_error(test_y, y_pred)\n",
    "MAE = mean_absolute_error(test_y, y_pred)\n",
    "print('MSE :', MSE)\n",
    "print('MAE :', MAE)"
   ]
  },
  {
   "cell_type": "markdown",
   "metadata": {},
   "source": [
    "### LightGBM 모델링"
   ]
  },
  {
   "cell_type": "markdown",
   "metadata": {},
   "source": [
    "!pip install lightgbm"
   ]
  },
  {
   "cell_type": "code",
   "execution_count": 123,
   "metadata": {},
   "outputs": [
    {
     "name": "stdout",
     "output_type": "stream",
     "text": [
      "MSE : 0.09139467880723452\n",
      "MAE : 0.046587546374889856\n"
     ]
    }
   ],
   "source": [
    "from lightgbm import LGBMRegressor\n",
    "\n",
    "lgbr = LGBMRegressor(n_estimators=400) # 트리 수 지정\n",
    "\n",
    "lgbr.fit(train_X, train_y)\n",
    "\n",
    "y_pred2 = lgbr.predict(test_X)\n",
    "\n",
    "MSE = mean_squared_error(test_y, y_pred2)\n",
    "MAE = mean_absolute_error(test_y, y_pred2)\n",
    "print('MSE :', MSE)\n",
    "print('MAE :', MAE)"
   ]
  },
  {
   "cell_type": "markdown",
   "metadata": {},
   "source": [
    "### 변수 중요도 시각화"
   ]
  },
  {
   "cell_type": "code",
   "execution_count": 124,
   "metadata": {},
   "outputs": [
    {
     "data": {
      "image/png": "[encoded data removed]",
      "text/plain": [
       "<Figure size 648x792 with 1 Axes>"
      ]
     },
     "metadata": {
      "needs_background": "light"
     },
     "output_type": "display_data"
    }
   ],
   "source": [
    "from lightgbm import plot_importance\n",
    "import matplotlib.pyplot as plt\n",
    "%matplotlib inline\n",
    "\n",
    "fig, ax = plt.subplots(figsize=(9,11))\n",
    "plot_importance(lgbr, ax=ax)\n",
    "plt.savefig('변수의 중요도.png')"
   ]
  },
  {
   "cell_type": "markdown",
   "metadata": {},
   "source": [
    "### 예측값과 원래 값 비교"
   ]
  },
  {
   "cell_type": "code",
   "execution_count": 112,
   "metadata": {},
   "outputs": [],
   "source": [
    "comparison = pd.DataFrame({'prediction': y_pred,\n",
    "                          'ground_truth' : test_y.values.ravel()}) \n",
    "comparison\n",
    "comparison.to_csv('비교.csv',encoding='ansi')"
   ]
  },
  {
   "cell_type": "code",
   "execution_count": null,
   "metadata": {},
   "outputs": [],
   "source": []
  }
 ],
 "metadata": {
  "kernelspec": {
   "display_name": "Python 3",
   "language": "python",
   "name": "python3"
  },
  "language_info": {
   "codemirror_mode": {
    "name": "ipython",
    "version": 3
   },
   "file_extension": ".py",
   "mimetype": "text/x-python",
   "name": "python",
   "nbconvert_exporter": "python",
   "pygments_lexer": "ipython3",
   "version": "3.7.6"
  }
 },
 "nbformat": 4,
 "nbformat_minor": 4
}
