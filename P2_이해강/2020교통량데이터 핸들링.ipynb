{
 "cells": [
  {
   "cell_type": "code",
   "execution_count": 26,
   "metadata": {},
   "outputs": [],
   "source": [
    "import pandas as pd\n",
    "df1 = pd.read_excel('2020교통량통합.xlsx',encoding='ansi')\n",
    "\n",
    "df1['DATE'] = pd.to_datetime(df1['DATE'])\n",
    "df1.drop(['지점명','지점번호','방향','구분'],axis=1,inplace=True)\n",
    "df2 = df1.groupby(\"DATE\").sum()\n",
    "\n",
    "df2['합계'] = (df2['0시']+df2['1시']+df2['2시']+df2['3시']+df2['4시']+df2['5시']+df2['6시']+df2['7시']+df2['8시']+df2['9시']+df2['10시']+df2['11시']+df2['12시']+\n",
    "                df2['13시']+df2['14시']+df2['15시']+df2['16시']+df2['17시']+df2['18시']+df2['19시']+df2['20시']+df2['21시']+df2['22시']+df2['23시'])\n",
    "\n",
    "df3 = df2.drop(['0시','1시','2시','3시','4시','5시','6시','7시','8시','9시','10시','11시','12시',\n",
    "          '13시','14시','15시','16시','17시','18시','19시','20시','21시','22시','23시'],axis=1)\n",
    "\n",
    "df3.to_csv('교통량통합.csv',encoding='ansi')"
   ]
  }
 ],
 "metadata": {
  "kernelspec": {
   "display_name": "Python 3",
   "language": "python",
   "name": "python3"
  },
  "language_info": {
   "codemirror_mode": {
    "name": "ipython",
    "version": 3
   },
   "file_extension": ".py",
   "mimetype": "text/x-python",
   "name": "python",
   "nbconvert_exporter": "python",
   "pygments_lexer": "ipython3",
   "version": "3.7.6"
  }
 },
 "nbformat": 4,
 "nbformat_minor": 4
}
