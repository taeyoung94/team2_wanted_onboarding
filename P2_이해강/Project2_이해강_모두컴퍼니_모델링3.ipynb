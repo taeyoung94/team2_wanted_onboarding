{
 "cells": [
  {
   "cell_type": "markdown",
   "metadata": {},
   "source": [
    "최종수정일시 : 2021-05-11 (모델링2)"
   ]
  },
  {
   "cell_type": "markdown",
   "metadata": {},
   "source": [
    "#### - 기본 Feature : D_TYPE, GOODS_TYPE, AD1\n",
    "#### - DATE 관련 추가 Feature : month(월), day(일), dayofweek(요일), holiday(일요일,국경일), weekend_indi(금,토), 교통량합계"
   ]
  },
  {
   "cell_type": "code",
   "execution_count": 1,
   "metadata": {},
   "outputs": [],
   "source": [
    "import pandas as pd\n",
    "import numpy as np\n",
    "import matplotlib.pyplot as plt\n",
    "import seaborn as sns\n",
    "\n",
    "# 경고창 무시\n",
    "import warnings\n",
    "warnings.filterwarnings(action='ignore')\n",
    "\n",
    "# matplotlib 한글 폰트 오류 해결\n",
    "import platform\n",
    "from matplotlib import font_manager, rc\n",
    "plt.rcParams['axes.unicode_minus'] = False\n",
    "\n",
    "if platform.system() == 'Darwin':\n",
    "    rc('font', family='appleGothic')\n",
    "elif platform.system() == 'Windows':\n",
    "    path = \"c:/Windows/Fonts/malgun.ttf\"\n",
    "    font_name = font_manager.FontProperties(fname=path).get_name()\n",
    "    rc('font', family=font_name)\n",
    "else:\n",
    "    print('Unknown system.... sorry.....')\n",
    "    \n",
    "# 랜덤 시드 생성\n",
    "np.random.seed(42)"
   ]
  },
  {
   "cell_type": "markdown",
   "metadata": {},
   "source": [
    "### 데이터 불러오기 (미리 날짜별로 저장)"
   ]
  },
  {
   "cell_type": "code",
   "execution_count": 143,
   "metadata": {},
   "outputs": [],
   "source": [
    "train = pd.read_csv('train.csv',encoding='ansi')\n",
    "test = pd.read_csv('test.csv',encoding='ansi')\n",
    "trans = pd.read_csv('교통량통합.csv',encoding='ansi')"
   ]
  },
  {
   "cell_type": "markdown",
   "metadata": {},
   "source": [
    "### 교통량 합계 데이터 train, test 분할"
   ]
  },
  {
   "cell_type": "code",
   "execution_count": 144,
   "metadata": {
    "scrolled": true
   },
   "outputs": [],
   "source": [
    "trans['DATE'] = pd.to_datetime(trans['DATE'])\n",
    "trans.set_index('DATE',inplace=True)\n",
    "\n",
    "trans_train = trans.loc[:'2020-09-30']\n",
    "trans_test = trans.loc['2020-10-01':]\n",
    "\n",
    "trans_train.reset_index(inplace=True)\n",
    "trans_test.reset_index(inplace=True)"
   ]
  },
  {
   "cell_type": "markdown",
   "metadata": {},
   "source": [
    "### DATE 컬럼 데이터타입 datetime으로 변경 후 교통량 합계와 병합"
   ]
  },
  {
   "cell_type": "code",
   "execution_count": 145,
   "metadata": {},
   "outputs": [],
   "source": [
    "train['DATE']=pd.to_datetime(train['DATE'])\n",
    "test['DATE']=pd.to_datetime(test['DATE'])\n",
    "\n",
    "train = pd.merge(train,trans_train, how='left', left_on='DATE', right_on='DATE')\n",
    "test = pd.merge(test,trans_test, how='left', left_on='DATE', right_on='DATE')"
   ]
  },
  {
   "cell_type": "markdown",
   "metadata": {},
   "source": [
    "### 교통량합계 MinMax Scaling"
   ]
  },
  {
   "cell_type": "code",
   "execution_count": 146,
   "metadata": {},
   "outputs": [],
   "source": [
    "from sklearn import preprocessing\n",
    "\n",
    "train[['교통량합계']] = preprocessing.MinMaxScaler().fit(train[['교통량합계']]).transform(train[['교통량합계']])\n",
    "test[['교통량합계']] = preprocessing.MinMaxScaler().fit(test[['교통량합계']]).transform(test[['교통량합계']])"
   ]
  },
  {
   "cell_type": "markdown",
   "metadata": {},
   "source": [
    "### 레이블(x)과 타겟(y)분리"
   ]
  },
  {
   "cell_type": "code",
   "execution_count": 147,
   "metadata": {},
   "outputs": [],
   "source": [
    "train_X = train.drop('COUNT',axis=1)\n",
    "train_y = train[['COUNT']]\n",
    "\n",
    "test_X = test.drop('COUNT',axis=1)\n",
    "test_y = test[['COUNT']]"
   ]
  },
  {
   "cell_type": "markdown",
   "metadata": {},
   "source": [
    "### 필요없는 컬럼 제거"
   ]
  },
  {
   "cell_type": "code",
   "execution_count": 148,
   "metadata": {},
   "outputs": [],
   "source": [
    "train_X.drop(['Unnamed: 0','USER_ID','JOIN_DATE','STORE_ID'],axis=1,inplace=True)\n",
    "test_X.drop(['Unnamed: 0','USER_ID','JOIN_DATE','STORE_ID'],axis=1,inplace=True)"
   ]
  },
  {
   "cell_type": "markdown",
   "metadata": {},
   "source": [
    "### 레이블인코딩 (문자형 -> 숫자형)"
   ]
  },
  {
   "cell_type": "code",
   "execution_count": 149,
   "metadata": {},
   "outputs": [],
   "source": [
    "# Feature Encoding\n",
    "from sklearn import preprocessing\n",
    "\n",
    "le = preprocessing.LabelEncoder()\n",
    "\n",
    "train_X['D_TYPE'] = le.fit_transform(train_X['D_TYPE'])\n",
    "train_X['GOODS_TYPE'] = le.fit_transform(train_X['GOODS_TYPE'])\n",
    "train_X['AD1'] = le.fit_transform(train_X['AD1'])\n",
    "\n",
    "test_X['D_TYPE'] = le.fit_transform(test_X['D_TYPE'])\n",
    "test_X['GOODS_TYPE'] = le.fit_transform(test_X['GOODS_TYPE'])\n",
    "test_X['AD1'] = le.fit_transform(test_X['AD1'])"
   ]
  },
  {
   "cell_type": "markdown",
   "metadata": {},
   "source": [
    "### 월,일 컬럼 생성"
   ]
  },
  {
   "cell_type": "code",
   "execution_count": 150,
   "metadata": {},
   "outputs": [],
   "source": [
    "train_X['Month'] = [k for k in train_X['DATE'].dt.month]\n",
    "test_X['Month'] = [k for k in test_X['DATE'].dt.month]"
   ]
  },
  {
   "cell_type": "code",
   "execution_count": 151,
   "metadata": {},
   "outputs": [],
   "source": [
    "train_X['Day'] = [k for k in train_X['DATE'].dt.day]\n",
    "test_X['Day'] = [k for k in test_X['DATE'].dt.day] "
   ]
  },
  {
   "cell_type": "markdown",
   "metadata": {},
   "source": [
    "### 요일 컬럼 생성 {월:0, 화:1, 수:2, 목:3, 금:4, 토:5, 일:6}"
   ]
  },
  {
   "cell_type": "code",
   "execution_count": 152,
   "metadata": {},
   "outputs": [],
   "source": [
    "## 요일 컬럼 생성\n",
    "train_X['dayofweek'] = [k for k in train_X['DATE'].dt.dayofweek]\n",
    "test_X['dayofweek'] = [k for k in test_X['DATE'].dt.dayofweek] "
   ]
  },
  {
   "cell_type": "markdown",
   "metadata": {},
   "source": [
    "### holiday 컬럼 생성 (구매율이 낮았던 일요일과 국경일)"
   ]
  },
  {
   "cell_type": "code",
   "execution_count": 153,
   "metadata": {},
   "outputs": [],
   "source": [
    "# 2020년 holiday 지정\n",
    "import pandas as pd\n",
    "from pandas.tseries.holiday import AbstractHolidayCalendar, Holiday\n",
    "\n",
    "class Calendar(AbstractHolidayCalendar):\n",
    "    rules = [\n",
    "        Holiday('New Year', month=1, day=1),\n",
    "        Holiday('KR_New Year1', month=1, day=24),\n",
    "        Holiday('KR_New Year2', month=1, day=25),\n",
    "        Holiday('KR_New Year3', month=1, day=26),\n",
    "        Holiday('3.1', month=3, day=1),\n",
    "        Holiday('Buddha Day', month=4, day=30),\n",
    "        Holiday('Memorial Day', month=6, day=6),\n",
    "        Holiday('Liberation Day', month=8, day=15),\n",
    "        Holiday('KR_Thanksgiving1', month=9, day=30),\n",
    "        Holiday('KR_Thanksgiving2', month=10, day=1),\n",
    "        Holiday('KR_Thanksgiving3', month=10, day=2),\n",
    "        Holiday('National Foundation Day', month=10, day=3),\n",
    "        Holiday('Hangul Day', month=10, day=9),\n",
    "        Holiday('Christmas', month=12, day=25)\n",
    "    ]\n",
    "dr = pd.date_range(start='2020-01-01', end='2020-12-31')\n",
    "cal = Calendar()\n",
    "holidays = cal.holidays(start=dr.min(), end=dr.max())\n",
    "train_X['Holiday'] = train_X['DATE'].isin(holidays)\n",
    "test_X['Holiday'] = test_X['DATE'].isin(holidays)\n",
    "\n",
    "# 일요일도 holiday로\n",
    "for i in range(len(train_X)):\n",
    "    if train_X['Day'][i] == 6:\n",
    "        train_X['Holiday'][i] = True\n",
    "        \n",
    "for i in range(len(test_X)):\n",
    "    if test_X['Day'][i] == 6:\n",
    "        test_X['Holiday'][i] = True"
   ]
  },
  {
   "cell_type": "markdown",
   "metadata": {},
   "source": [
    "### Weekend_indi 컬럼 생성 (구매율이 높았던 금,토)"
   ]
  },
  {
   "cell_type": "code",
   "execution_count": 154,
   "metadata": {},
   "outputs": [],
   "source": [
    "train_X['Weekend_indi'] = 0\n",
    "train_X['EveryDay'] = train_X.loc[train_X['Day'].isin([4,5]), 'Weekend_indi'] =1"
   ]
  },
  {
   "cell_type": "code",
   "execution_count": 155,
   "metadata": {},
   "outputs": [],
   "source": [
    "test_X['Weekend_indi'] = 0\n",
    "test_X['EveryDay'] = test_X.loc[test_X['Day'].isin([4,5]), 'Weekend_indi'] =1"
   ]
  },
  {
   "cell_type": "markdown",
   "metadata": {},
   "source": [
    "### 필요없는 컬럼 제거"
   ]
  },
  {
   "cell_type": "code",
   "execution_count": 156,
   "metadata": {},
   "outputs": [],
   "source": [
    "train_X.drop(['DATE','EveryDay'],axis=1,inplace=True)\n",
    "test_X.drop(['DATE','EveryDay'],axis=1,inplace=True)"
   ]
  },
  {
   "cell_type": "code",
   "execution_count": 160,
   "metadata": {},
   "outputs": [
    {
     "data": {
      "text/html": [
       "<div>\n",
       "<style scoped>\n",
       "    .dataframe tbody tr th:only-of-type {\n",
       "        vertical-align: middle;\n",
       "    }\n",
       "\n",
       "    .dataframe tbody tr th {\n",
       "        vertical-align: top;\n",
       "    }\n",
       "\n",
       "    .dataframe thead th {\n",
       "        text-align: right;\n",
       "    }\n",
       "</style>\n",
       "<table border=\"1\" class=\"dataframe\">\n",
       "  <thead>\n",
       "    <tr style=\"text-align: right;\">\n",
       "      <th></th>\n",
       "      <th>D_TYPE</th>\n",
       "      <th>GOODS_TYPE</th>\n",
       "      <th>AD1</th>\n",
       "      <th>교통량합계</th>\n",
       "      <th>Month</th>\n",
       "      <th>Day</th>\n",
       "      <th>dayofweek</th>\n",
       "      <th>Holiday</th>\n",
       "      <th>Weekend_indi</th>\n",
       "    </tr>\n",
       "  </thead>\n",
       "  <tbody>\n",
       "    <tr>\n",
       "      <th>0</th>\n",
       "      <td>0</td>\n",
       "      <td>0</td>\n",
       "      <td>37</td>\n",
       "      <td>0.285568</td>\n",
       "      <td>1</td>\n",
       "      <td>1</td>\n",
       "      <td>2</td>\n",
       "      <td>True</td>\n",
       "      <td>0</td>\n",
       "    </tr>\n",
       "    <tr>\n",
       "      <th>1</th>\n",
       "      <td>1</td>\n",
       "      <td>0</td>\n",
       "      <td>46</td>\n",
       "      <td>0.285568</td>\n",
       "      <td>1</td>\n",
       "      <td>1</td>\n",
       "      <td>2</td>\n",
       "      <td>True</td>\n",
       "      <td>0</td>\n",
       "    </tr>\n",
       "    <tr>\n",
       "      <th>2</th>\n",
       "      <td>1</td>\n",
       "      <td>0</td>\n",
       "      <td>60</td>\n",
       "      <td>0.285568</td>\n",
       "      <td>1</td>\n",
       "      <td>1</td>\n",
       "      <td>2</td>\n",
       "      <td>True</td>\n",
       "      <td>0</td>\n",
       "    </tr>\n",
       "    <tr>\n",
       "      <th>3</th>\n",
       "      <td>1</td>\n",
       "      <td>2</td>\n",
       "      <td>49</td>\n",
       "      <td>0.285568</td>\n",
       "      <td>1</td>\n",
       "      <td>1</td>\n",
       "      <td>2</td>\n",
       "      <td>True</td>\n",
       "      <td>0</td>\n",
       "    </tr>\n",
       "    <tr>\n",
       "      <th>4</th>\n",
       "      <td>0</td>\n",
       "      <td>2</td>\n",
       "      <td>48</td>\n",
       "      <td>0.285568</td>\n",
       "      <td>1</td>\n",
       "      <td>1</td>\n",
       "      <td>2</td>\n",
       "      <td>True</td>\n",
       "      <td>0</td>\n",
       "    </tr>\n",
       "    <tr>\n",
       "      <th>...</th>\n",
       "      <td>...</td>\n",
       "      <td>...</td>\n",
       "      <td>...</td>\n",
       "      <td>...</td>\n",
       "      <td>...</td>\n",
       "      <td>...</td>\n",
       "      <td>...</td>\n",
       "      <td>...</td>\n",
       "      <td>...</td>\n",
       "    </tr>\n",
       "    <tr>\n",
       "      <th>623574</th>\n",
       "      <td>1</td>\n",
       "      <td>1</td>\n",
       "      <td>37</td>\n",
       "      <td>0.235073</td>\n",
       "      <td>9</td>\n",
       "      <td>30</td>\n",
       "      <td>2</td>\n",
       "      <td>True</td>\n",
       "      <td>0</td>\n",
       "    </tr>\n",
       "    <tr>\n",
       "      <th>623575</th>\n",
       "      <td>0</td>\n",
       "      <td>1</td>\n",
       "      <td>49</td>\n",
       "      <td>0.235073</td>\n",
       "      <td>9</td>\n",
       "      <td>30</td>\n",
       "      <td>2</td>\n",
       "      <td>True</td>\n",
       "      <td>0</td>\n",
       "    </tr>\n",
       "    <tr>\n",
       "      <th>623576</th>\n",
       "      <td>0</td>\n",
       "      <td>1</td>\n",
       "      <td>3</td>\n",
       "      <td>0.235073</td>\n",
       "      <td>9</td>\n",
       "      <td>30</td>\n",
       "      <td>2</td>\n",
       "      <td>True</td>\n",
       "      <td>0</td>\n",
       "    </tr>\n",
       "    <tr>\n",
       "      <th>623577</th>\n",
       "      <td>1</td>\n",
       "      <td>0</td>\n",
       "      <td>48</td>\n",
       "      <td>0.235073</td>\n",
       "      <td>9</td>\n",
       "      <td>30</td>\n",
       "      <td>2</td>\n",
       "      <td>True</td>\n",
       "      <td>0</td>\n",
       "    </tr>\n",
       "    <tr>\n",
       "      <th>623578</th>\n",
       "      <td>0</td>\n",
       "      <td>0</td>\n",
       "      <td>60</td>\n",
       "      <td>0.235073</td>\n",
       "      <td>9</td>\n",
       "      <td>30</td>\n",
       "      <td>2</td>\n",
       "      <td>True</td>\n",
       "      <td>0</td>\n",
       "    </tr>\n",
       "  </tbody>\n",
       "</table>\n",
       "<p>623579 rows × 9 columns</p>\n",
       "</div>"
      ],
      "text/plain": [
       "        D_TYPE  GOODS_TYPE  AD1     교통량합계  Month  Day  dayofweek  Holiday  \\\n",
       "0            0           0   37  0.285568      1    1          2     True   \n",
       "1            1           0   46  0.285568      1    1          2     True   \n",
       "2            1           0   60  0.285568      1    1          2     True   \n",
       "3            1           2   49  0.285568      1    1          2     True   \n",
       "4            0           2   48  0.285568      1    1          2     True   \n",
       "...        ...         ...  ...       ...    ...  ...        ...      ...   \n",
       "623574       1           1   37  0.235073      9   30          2     True   \n",
       "623575       0           1   49  0.235073      9   30          2     True   \n",
       "623576       0           1    3  0.235073      9   30          2     True   \n",
       "623577       1           0   48  0.235073      9   30          2     True   \n",
       "623578       0           0   60  0.235073      9   30          2     True   \n",
       "\n",
       "        Weekend_indi  \n",
       "0                  0  \n",
       "1                  0  \n",
       "2                  0  \n",
       "3                  0  \n",
       "4                  0  \n",
       "...              ...  \n",
       "623574             0  \n",
       "623575             0  \n",
       "623576             0  \n",
       "623577             0  \n",
       "623578             0  \n",
       "\n",
       "[623579 rows x 9 columns]"
      ]
     },
     "metadata": {},
     "output_type": "display_data"
    },
    {
     "data": {
      "text/html": [
       "<div>\n",
       "<style scoped>\n",
       "    .dataframe tbody tr th:only-of-type {\n",
       "        vertical-align: middle;\n",
       "    }\n",
       "\n",
       "    .dataframe tbody tr th {\n",
       "        vertical-align: top;\n",
       "    }\n",
       "\n",
       "    .dataframe thead th {\n",
       "        text-align: right;\n",
       "    }\n",
       "</style>\n",
       "<table border=\"1\" class=\"dataframe\">\n",
       "  <thead>\n",
       "    <tr style=\"text-align: right;\">\n",
       "      <th></th>\n",
       "      <th>D_TYPE</th>\n",
       "      <th>GOODS_TYPE</th>\n",
       "      <th>AD1</th>\n",
       "      <th>교통량합계</th>\n",
       "      <th>Month</th>\n",
       "      <th>Day</th>\n",
       "      <th>dayofweek</th>\n",
       "      <th>Holiday</th>\n",
       "      <th>Weekend_indi</th>\n",
       "    </tr>\n",
       "  </thead>\n",
       "  <tbody>\n",
       "    <tr>\n",
       "      <th>0</th>\n",
       "      <td>0</td>\n",
       "      <td>0</td>\n",
       "      <td>52</td>\n",
       "      <td>0.311937</td>\n",
       "      <td>10</td>\n",
       "      <td>1</td>\n",
       "      <td>3</td>\n",
       "      <td>True</td>\n",
       "      <td>0</td>\n",
       "    </tr>\n",
       "    <tr>\n",
       "      <th>1</th>\n",
       "      <td>1</td>\n",
       "      <td>3</td>\n",
       "      <td>50</td>\n",
       "      <td>0.311937</td>\n",
       "      <td>10</td>\n",
       "      <td>1</td>\n",
       "      <td>3</td>\n",
       "      <td>True</td>\n",
       "      <td>0</td>\n",
       "    </tr>\n",
       "    <tr>\n",
       "      <th>2</th>\n",
       "      <td>1</td>\n",
       "      <td>0</td>\n",
       "      <td>52</td>\n",
       "      <td>0.311937</td>\n",
       "      <td>10</td>\n",
       "      <td>1</td>\n",
       "      <td>3</td>\n",
       "      <td>True</td>\n",
       "      <td>0</td>\n",
       "    </tr>\n",
       "    <tr>\n",
       "      <th>3</th>\n",
       "      <td>1</td>\n",
       "      <td>0</td>\n",
       "      <td>22</td>\n",
       "      <td>0.311937</td>\n",
       "      <td>10</td>\n",
       "      <td>1</td>\n",
       "      <td>3</td>\n",
       "      <td>True</td>\n",
       "      <td>0</td>\n",
       "    </tr>\n",
       "    <tr>\n",
       "      <th>4</th>\n",
       "      <td>0</td>\n",
       "      <td>0</td>\n",
       "      <td>64</td>\n",
       "      <td>0.311937</td>\n",
       "      <td>10</td>\n",
       "      <td>1</td>\n",
       "      <td>3</td>\n",
       "      <td>True</td>\n",
       "      <td>0</td>\n",
       "    </tr>\n",
       "    <tr>\n",
       "      <th>...</th>\n",
       "      <td>...</td>\n",
       "      <td>...</td>\n",
       "      <td>...</td>\n",
       "      <td>...</td>\n",
       "      <td>...</td>\n",
       "      <td>...</td>\n",
       "      <td>...</td>\n",
       "      <td>...</td>\n",
       "      <td>...</td>\n",
       "    </tr>\n",
       "    <tr>\n",
       "      <th>255687</th>\n",
       "      <td>1</td>\n",
       "      <td>1</td>\n",
       "      <td>40</td>\n",
       "      <td>0.666088</td>\n",
       "      <td>12</td>\n",
       "      <td>31</td>\n",
       "      <td>3</td>\n",
       "      <td>False</td>\n",
       "      <td>0</td>\n",
       "    </tr>\n",
       "    <tr>\n",
       "      <th>255688</th>\n",
       "      <td>1</td>\n",
       "      <td>1</td>\n",
       "      <td>19</td>\n",
       "      <td>0.666088</td>\n",
       "      <td>12</td>\n",
       "      <td>31</td>\n",
       "      <td>3</td>\n",
       "      <td>False</td>\n",
       "      <td>0</td>\n",
       "    </tr>\n",
       "    <tr>\n",
       "      <th>255689</th>\n",
       "      <td>0</td>\n",
       "      <td>1</td>\n",
       "      <td>52</td>\n",
       "      <td>0.666088</td>\n",
       "      <td>12</td>\n",
       "      <td>31</td>\n",
       "      <td>3</td>\n",
       "      <td>False</td>\n",
       "      <td>0</td>\n",
       "    </tr>\n",
       "    <tr>\n",
       "      <th>255690</th>\n",
       "      <td>1</td>\n",
       "      <td>1</td>\n",
       "      <td>50</td>\n",
       "      <td>0.666088</td>\n",
       "      <td>12</td>\n",
       "      <td>31</td>\n",
       "      <td>3</td>\n",
       "      <td>False</td>\n",
       "      <td>0</td>\n",
       "    </tr>\n",
       "    <tr>\n",
       "      <th>255691</th>\n",
       "      <td>0</td>\n",
       "      <td>1</td>\n",
       "      <td>63</td>\n",
       "      <td>0.666088</td>\n",
       "      <td>12</td>\n",
       "      <td>31</td>\n",
       "      <td>3</td>\n",
       "      <td>False</td>\n",
       "      <td>0</td>\n",
       "    </tr>\n",
       "  </tbody>\n",
       "</table>\n",
       "<p>255692 rows × 9 columns</p>\n",
       "</div>"
      ],
      "text/plain": [
       "        D_TYPE  GOODS_TYPE  AD1     교통량합계  Month  Day  dayofweek  Holiday  \\\n",
       "0            0           0   52  0.311937     10    1          3     True   \n",
       "1            1           3   50  0.311937     10    1          3     True   \n",
       "2            1           0   52  0.311937     10    1          3     True   \n",
       "3            1           0   22  0.311937     10    1          3     True   \n",
       "4            0           0   64  0.311937     10    1          3     True   \n",
       "...        ...         ...  ...       ...    ...  ...        ...      ...   \n",
       "255687       1           1   40  0.666088     12   31          3    False   \n",
       "255688       1           1   19  0.666088     12   31          3    False   \n",
       "255689       0           1   52  0.666088     12   31          3    False   \n",
       "255690       1           1   50  0.666088     12   31          3    False   \n",
       "255691       0           1   63  0.666088     12   31          3    False   \n",
       "\n",
       "        Weekend_indi  \n",
       "0                  0  \n",
       "1                  0  \n",
       "2                  0  \n",
       "3                  0  \n",
       "4                  0  \n",
       "...              ...  \n",
       "255687             0  \n",
       "255688             0  \n",
       "255689             0  \n",
       "255690             0  \n",
       "255691             0  \n",
       "\n",
       "[255692 rows x 9 columns]"
      ]
     },
     "metadata": {},
     "output_type": "display_data"
    }
   ],
   "source": [
    "display(train_X, test_X)"
   ]
  },
  {
   "cell_type": "markdown",
   "metadata": {},
   "source": [
    "### 랜덤포레스트 모델링"
   ]
  },
  {
   "cell_type": "code",
   "execution_count": 127,
   "metadata": {
    "scrolled": true
   },
   "outputs": [
    {
     "name": "stdout",
     "output_type": "stream",
     "text": [
      "MSE : 0.34549719031553855\n"
     ]
    }
   ],
   "source": [
    "from sklearn.ensemble import RandomForestRegressor\n",
    "from sklearn.metrics import mean_squared_error\n",
    "\n",
    "rfr = RandomForestRegressor()\n",
    "    \n",
    "rfr.fit(train_X, train_y)\n",
    "    \n",
    "y_pred = rfr.predict(test_X)\n",
    "\n",
    "MSE = mean_squared_error(test_y, y_pred)\n",
    "print('MSE :', MSE)"
   ]
  },
  {
   "cell_type": "markdown",
   "metadata": {},
   "source": [
    "### LightGBM 모델링"
   ]
  },
  {
   "cell_type": "code",
   "execution_count": 163,
   "metadata": {},
   "outputs": [
    {
     "name": "stdout",
     "output_type": "stream",
     "text": [
      "MSE : 0.3341581755717744\n"
     ]
    }
   ],
   "source": [
    "from lightgbm import LGBMRegressor\n",
    "\n",
    "lgbr = LGBMRegressor(n_estimators=400)\n",
    "\n",
    "lgbr.fit(train_X, train_y)\n",
    "\n",
    "y_pred2 = lgbr.predict(test_X)\n",
    "\n",
    "MSE = mean_squared_error(test_y, y_pred2)\n",
    "print('MSE :', MSE)"
   ]
  },
  {
   "cell_type": "markdown",
   "metadata": {},
   "source": [
    "### LightGBM 모델의 변수 중요도"
   ]
  },
  {
   "cell_type": "code",
   "execution_count": 161,
   "metadata": {},
   "outputs": [
    {
     "data": {
      "image/png": "[encoded data removed]",
      "text/plain": [
       "<Figure size 648x792 with 1 Axes>"
      ]
     },
     "metadata": {
      "needs_background": "light"
     },
     "output_type": "display_data"
    }
   ],
   "source": [
    "from lightgbm import plot_importance\n",
    "import matplotlib.pyplot as plt\n",
    "%matplotlib inline\n",
    "\n",
    "fig, ax = plt.subplots(figsize=(9,11))\n",
    "plot_importance(lgbr, ax=ax)\n",
    "plt.savefig('변수의 중요도.png')"
   ]
  },
  {
   "cell_type": "markdown",
   "metadata": {},
   "source": [
    "### 예측값과 원래값 비교"
   ]
  },
  {
   "cell_type": "code",
   "execution_count": 164,
   "metadata": {
    "scrolled": false
   },
   "outputs": [
    {
     "data": {
      "text/html": [
       "<div>\n",
       "<style scoped>\n",
       "    .dataframe tbody tr th:only-of-type {\n",
       "        vertical-align: middle;\n",
       "    }\n",
       "\n",
       "    .dataframe tbody tr th {\n",
       "        vertical-align: top;\n",
       "    }\n",
       "\n",
       "    .dataframe thead th {\n",
       "        text-align: right;\n",
       "    }\n",
       "</style>\n",
       "<table border=\"1\" class=\"dataframe\">\n",
       "  <thead>\n",
       "    <tr style=\"text-align: right;\">\n",
       "      <th></th>\n",
       "      <th>prediction</th>\n",
       "      <th>ground_truth</th>\n",
       "    </tr>\n",
       "  </thead>\n",
       "  <tbody>\n",
       "    <tr>\n",
       "      <th>0</th>\n",
       "      <td>1.000000</td>\n",
       "      <td>1</td>\n",
       "    </tr>\n",
       "    <tr>\n",
       "      <th>1</th>\n",
       "      <td>1.062449</td>\n",
       "      <td>1</td>\n",
       "    </tr>\n",
       "    <tr>\n",
       "      <th>2</th>\n",
       "      <td>1.018530</td>\n",
       "      <td>1</td>\n",
       "    </tr>\n",
       "    <tr>\n",
       "      <th>3</th>\n",
       "      <td>1.010000</td>\n",
       "      <td>1</td>\n",
       "    </tr>\n",
       "    <tr>\n",
       "      <th>4</th>\n",
       "      <td>1.153899</td>\n",
       "      <td>1</td>\n",
       "    </tr>\n",
       "    <tr>\n",
       "      <th>...</th>\n",
       "      <td>...</td>\n",
       "      <td>...</td>\n",
       "    </tr>\n",
       "    <tr>\n",
       "      <th>255687</th>\n",
       "      <td>1.002474</td>\n",
       "      <td>1</td>\n",
       "    </tr>\n",
       "    <tr>\n",
       "      <th>255688</th>\n",
       "      <td>1.000000</td>\n",
       "      <td>1</td>\n",
       "    </tr>\n",
       "    <tr>\n",
       "      <th>255689</th>\n",
       "      <td>1.039735</td>\n",
       "      <td>1</td>\n",
       "    </tr>\n",
       "    <tr>\n",
       "      <th>255690</th>\n",
       "      <td>1.008449</td>\n",
       "      <td>1</td>\n",
       "    </tr>\n",
       "    <tr>\n",
       "      <th>255691</th>\n",
       "      <td>1.031742</td>\n",
       "      <td>1</td>\n",
       "    </tr>\n",
       "  </tbody>\n",
       "</table>\n",
       "<p>255692 rows × 2 columns</p>\n",
       "</div>"
      ],
      "text/plain": [
       "        prediction  ground_truth\n",
       "0         1.000000             1\n",
       "1         1.062449             1\n",
       "2         1.018530             1\n",
       "3         1.010000             1\n",
       "4         1.153899             1\n",
       "...            ...           ...\n",
       "255687    1.002474             1\n",
       "255688    1.000000             1\n",
       "255689    1.039735             1\n",
       "255690    1.008449             1\n",
       "255691    1.031742             1\n",
       "\n",
       "[255692 rows x 2 columns]"
      ]
     },
     "execution_count": 164,
     "metadata": {},
     "output_type": "execute_result"
    }
   ],
   "source": [
    "comparison = pd.DataFrame({'prediction': y_pred,\n",
    "                          'ground_truth' : test_y.values.ravel()}) \n",
    "comparison"
   ]
  },
  {
   "cell_type": "code",
   "execution_count": 165,
   "metadata": {},
   "outputs": [],
   "source": [
    "comparison.to_csv('비교.csv',encoding='ansi')"
   ]
  },
  {
   "cell_type": "code",
   "execution_count": null,
   "metadata": {},
   "outputs": [],
   "source": []
  }
 ],
 "metadata": {
  "kernelspec": {
   "display_name": "Python 3",
   "language": "python",
   "name": "python3"
  },
  "language_info": {
   "codemirror_mode": {
    "name": "ipython",
    "version": 3
   },
   "file_extension": ".py",
   "mimetype": "text/x-python",
   "name": "python",
   "nbconvert_exporter": "python",
   "pygments_lexer": "ipython3",
   "version": "3.7.6"
  }
 },
 "nbformat": 4,
 "nbformat_minor": 4
}
