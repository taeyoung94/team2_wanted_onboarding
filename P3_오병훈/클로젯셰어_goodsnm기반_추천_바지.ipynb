{
 "cells": [
  {
   "cell_type": "code",
   "execution_count": 17,
   "id": "dominant-signature",
   "metadata": {},
   "outputs": [],
   "source": [
    "import pandas as pd\n",
    "import numpy as np\n",
    "from matplotlib import pyplot as plt\n",
    "from matplotlib.gridspec import GridSpec\n",
    "import seaborn as sns\n",
    "\n",
    "plt.rcParams['font.family'] = 'Malgun Gothic'  # 한글 출력을 위한 글꼴 설정\n",
    "plt.rcParams['axes.unicode_minus'] = False    # 문자 - (마이너스) 정상 출력을 위한 코드\n",
    "\n",
    "# 컨텐츠기반 추천시스템을 위한 라이브러리\n",
    "from sklearn.feature_extraction.text import TfidfVectorizer\n",
    "from sklearn.metrics.pairwise import cosine_similarity\n",
    "\n",
    "#실수 설정 옵션 (소수 셋째 짜리까지)\n",
    "pd.options.display.float_format = '{:.3f}'.format"
   ]
  },
  {
   "cell_type": "markdown",
   "id": "excess-mystery",
   "metadata": {},
   "source": [
    "## 데이터셋"
   ]
  },
  {
   "cell_type": "code",
   "execution_count": 2,
   "id": "ideal-professional",
   "metadata": {},
   "outputs": [],
   "source": [
    "df_closet=pd.read_excel('C:/Users/82102/jupi python/프리온보딩/기술과제 제출/클로젯셰어_과제DB 대체 자료.xlsx')"
   ]
  },
  {
   "cell_type": "code",
   "execution_count": 3,
   "id": "continued-feelings",
   "metadata": {},
   "outputs": [
    {
     "data": {
      "text/html": [
       "<div>\n",
       "<style scoped>\n",
       "    .dataframe tbody tr th:only-of-type {\n",
       "        vertical-align: middle;\n",
       "    }\n",
       "\n",
       "    .dataframe tbody tr th {\n",
       "        vertical-align: top;\n",
       "    }\n",
       "\n",
       "    .dataframe thead th {\n",
       "        text-align: right;\n",
       "    }\n",
       "</style>\n",
       "<table border=\"1\" class=\"dataframe\">\n",
       "  <thead>\n",
       "    <tr style=\"text-align: right;\">\n",
       "      <th></th>\n",
       "      <th>brandnm</th>\n",
       "      <th>goodsnm</th>\n",
       "      <th>USER</th>\n",
       "      <th>reg_date</th>\n",
       "      <th>order_date</th>\n",
       "      <th>p_type</th>\n",
       "      <th>sub_type</th>\n",
       "      <th>app_yn</th>\n",
       "    </tr>\n",
       "  </thead>\n",
       "  <tbody>\n",
       "    <tr>\n",
       "      <th>0</th>\n",
       "      <td>Gucci</td>\n",
       "      <td>flower dionysus shoulder bag beige</td>\n",
       "      <td>a161237</td>\n",
       "      <td>2019-12-06</td>\n",
       "      <td>2021-01-15</td>\n",
       "      <td>7days</td>\n",
       "      <td>BA</td>\n",
       "      <td>Y</td>\n",
       "    </tr>\n",
       "    <tr>\n",
       "      <th>1</th>\n",
       "      <td>El estilo de Claire</td>\n",
       "      <td>beads cropped jacket black</td>\n",
       "      <td>a1140859</td>\n",
       "      <td>2021-01-02</td>\n",
       "      <td>2021-01-15</td>\n",
       "      <td>4days</td>\n",
       "      <td>O</td>\n",
       "      <td>NaN</td>\n",
       "    </tr>\n",
       "    <tr>\n",
       "      <th>2</th>\n",
       "      <td>Danha</td>\n",
       "      <td>embroidery point oriental mini skirt blue</td>\n",
       "      <td>a1140859</td>\n",
       "      <td>2021-01-02</td>\n",
       "      <td>2021-01-15</td>\n",
       "      <td>4days</td>\n",
       "      <td>B</td>\n",
       "      <td>NaN</td>\n",
       "    </tr>\n",
       "    <tr>\n",
       "      <th>3</th>\n",
       "      <td>Danha</td>\n",
       "      <td>graphics pattern top pink</td>\n",
       "      <td>a1140859</td>\n",
       "      <td>2021-01-02</td>\n",
       "      <td>2021-01-15</td>\n",
       "      <td>4days</td>\n",
       "      <td>T</td>\n",
       "      <td>NaN</td>\n",
       "    </tr>\n",
       "    <tr>\n",
       "      <th>4</th>\n",
       "      <td>Burberry London</td>\n",
       "      <td>buckle basic pattern zipup-jumper navy</td>\n",
       "      <td>a1140740</td>\n",
       "      <td>2021-01-01</td>\n",
       "      <td>2021-01-15</td>\n",
       "      <td>7days</td>\n",
       "      <td>O</td>\n",
       "      <td>Y</td>\n",
       "    </tr>\n",
       "  </tbody>\n",
       "</table>\n",
       "</div>"
      ],
      "text/plain": [
       "               brandnm                                    goodsnm      USER  \\\n",
       "0                Gucci         flower dionysus shoulder bag beige   a161237   \n",
       "1  El estilo de Claire                 beads cropped jacket black  a1140859   \n",
       "2                Danha  embroidery point oriental mini skirt blue  a1140859   \n",
       "3                Danha                  graphics pattern top pink  a1140859   \n",
       "4      Burberry London     buckle basic pattern zipup-jumper navy  a1140740   \n",
       "\n",
       "    reg_date order_date p_type sub_type app_yn  \n",
       "0 2019-12-06 2021-01-15  7days       BA      Y  \n",
       "1 2021-01-02 2021-01-15  4days        O    NaN  \n",
       "2 2021-01-02 2021-01-15  4days        B    NaN  \n",
       "3 2021-01-02 2021-01-15  4days        T    NaN  \n",
       "4 2021-01-01 2021-01-15  7days        O      Y  "
      ]
     },
     "execution_count": 3,
     "metadata": {},
     "output_type": "execute_result"
    }
   ],
   "source": [
    "df_closet.head()"
   ]
  },
  {
   "cell_type": "markdown",
   "id": "confirmed-invalid",
   "metadata": {},
   "source": [
    "## 결측치 "
   ]
  },
  {
   "cell_type": "code",
   "execution_count": 4,
   "id": "serial-affiliate",
   "metadata": {},
   "outputs": [
    {
     "name": "stdout",
     "output_type": "stream",
     "text": [
      "<class 'pandas.core.frame.DataFrame'>\n",
      "RangeIndex: 1471 entries, 0 to 1470\n",
      "Data columns (total 8 columns):\n",
      " #   Column      Non-Null Count  Dtype         \n",
      "---  ------      --------------  -----         \n",
      " 0   brandnm     1442 non-null   object        \n",
      " 1   goodsnm     1471 non-null   object        \n",
      " 2   USER        1471 non-null   object        \n",
      " 3   reg_date    1466 non-null   datetime64[ns]\n",
      " 4   order_date  1471 non-null   datetime64[ns]\n",
      " 5   p_type      1471 non-null   object        \n",
      " 6   sub_type    1471 non-null   object        \n",
      " 7   app_yn      1471 non-null   object        \n",
      "dtypes: datetime64[ns](2), object(6)\n",
      "memory usage: 92.1+ KB\n"
     ]
    }
   ],
   "source": [
    "#app_yn n 채우자\n",
    "df_closet[\"app_yn\"].fillna('N', inplace = True)\n",
    "df_closet.info()"
   ]
  },
  {
   "cell_type": "code",
   "execution_count": 5,
   "id": "focused-procedure",
   "metadata": {},
   "outputs": [],
   "source": [
    "# brandnm, reg_date 결측치 확인\n",
    "brandnm_nl=df_closet.loc[df_closet['brandnm'].isnull()]\n",
    "reg_date_nl = df_closet.loc[df_closet['reg_date'].isnull()]"
   ]
  },
  {
   "cell_type": "code",
   "execution_count": 6,
   "id": "sudden-scanning",
   "metadata": {},
   "outputs": [
    {
     "data": {
      "text/html": [
       "<div>\n",
       "<style scoped>\n",
       "    .dataframe tbody tr th:only-of-type {\n",
       "        vertical-align: middle;\n",
       "    }\n",
       "\n",
       "    .dataframe tbody tr th {\n",
       "        vertical-align: top;\n",
       "    }\n",
       "\n",
       "    .dataframe thead th {\n",
       "        text-align: right;\n",
       "    }\n",
       "</style>\n",
       "<table border=\"1\" class=\"dataframe\">\n",
       "  <thead>\n",
       "    <tr style=\"text-align: right;\">\n",
       "      <th></th>\n",
       "      <th>brandnm</th>\n",
       "      <th>goodsnm</th>\n",
       "      <th>USER</th>\n",
       "      <th>reg_date</th>\n",
       "      <th>order_date</th>\n",
       "      <th>p_type</th>\n",
       "      <th>sub_type</th>\n",
       "      <th>app_yn</th>\n",
       "    </tr>\n",
       "  </thead>\n",
       "  <tbody>\n",
       "    <tr>\n",
       "      <th>265</th>\n",
       "      <td>Gucci</td>\n",
       "      <td>mamont chain bag red</td>\n",
       "      <td>a1144008</td>\n",
       "      <td>NaT</td>\n",
       "      <td>2021-01-21</td>\n",
       "      <td>7days</td>\n",
       "      <td>BA</td>\n",
       "      <td>Y</td>\n",
       "    </tr>\n",
       "    <tr>\n",
       "      <th>351</th>\n",
       "      <td>Lanvin</td>\n",
       "      <td>banding point jumper skyblue</td>\n",
       "      <td>a1142855</td>\n",
       "      <td>NaT</td>\n",
       "      <td>2021-01-18</td>\n",
       "      <td>7days</td>\n",
       "      <td>O</td>\n",
       "      <td>N</td>\n",
       "    </tr>\n",
       "    <tr>\n",
       "      <th>564</th>\n",
       "      <td>Gucci</td>\n",
       "      <td>leather point cross bag</td>\n",
       "      <td>a1146490</td>\n",
       "      <td>NaT</td>\n",
       "      <td>2021-02-18</td>\n",
       "      <td>4days</td>\n",
       "      <td>BA</td>\n",
       "      <td>Y</td>\n",
       "    </tr>\n",
       "    <tr>\n",
       "      <th>746</th>\n",
       "      <td>Fendi</td>\n",
       "      <td>monogram zucchino shoulder bag</td>\n",
       "      <td>a1145478</td>\n",
       "      <td>NaT</td>\n",
       "      <td>2021-02-04</td>\n",
       "      <td>4days</td>\n",
       "      <td>BA</td>\n",
       "      <td>N</td>\n",
       "    </tr>\n",
       "    <tr>\n",
       "      <th>1254</th>\n",
       "      <td>Fendi</td>\n",
       "      <td>back to school bag 1</td>\n",
       "      <td>a1149094</td>\n",
       "      <td>NaT</td>\n",
       "      <td>2021-03-12</td>\n",
       "      <td>7days</td>\n",
       "      <td>BA</td>\n",
       "      <td>Y</td>\n",
       "    </tr>\n",
       "  </tbody>\n",
       "</table>\n",
       "</div>"
      ],
      "text/plain": [
       "     brandnm                         goodsnm      USER reg_date order_date  \\\n",
       "265    Gucci            mamont chain bag red  a1144008      NaT 2021-01-21   \n",
       "351   Lanvin    banding point jumper skyblue  a1142855      NaT 2021-01-18   \n",
       "564    Gucci         leather point cross bag  a1146490      NaT 2021-02-18   \n",
       "746    Fendi  monogram zucchino shoulder bag  a1145478      NaT 2021-02-04   \n",
       "1254   Fendi            back to school bag 1  a1149094      NaT 2021-03-12   \n",
       "\n",
       "     p_type sub_type app_yn  \n",
       "265   7days       BA      Y  \n",
       "351   7days        O      N  \n",
       "564   4days       BA      Y  \n",
       "746   4days       BA      N  \n",
       "1254  7days       BA      Y  "
      ]
     },
     "execution_count": 6,
     "metadata": {},
     "output_type": "execute_result"
    }
   ],
   "source": [
    "# reg_date 결측치\n",
    "# 유저, 브랜드, 다른 피쳐가 거의 다르다 \n",
    "reg_date_nl"
   ]
  },
  {
   "cell_type": "code",
   "execution_count": 7,
   "id": "fiscal-techno",
   "metadata": {},
   "outputs": [],
   "source": [
    "#결측값 정리 파일\n",
    "df_tp=pd.read_csv('TP.csv')"
   ]
  },
  {
   "cell_type": "code",
   "execution_count": 8,
   "id": "intelligent-america",
   "metadata": {},
   "outputs": [],
   "source": [
    "df_tp= df_tp.rename(columns={\n",
    "    '브랜드 결측값 브랜드 후보':'brandnm'\n",
    "})"
   ]
  },
  {
   "cell_type": "code",
   "execution_count": 9,
   "id": "roman-dealing",
   "metadata": {},
   "outputs": [],
   "source": [
    "df_tp_dict=df_tp.to_dict()"
   ]
  },
  {
   "cell_type": "code",
   "execution_count": 10,
   "id": "complicated-symphony",
   "metadata": {},
   "outputs": [],
   "source": [
    "for i in  list(df_tp_dict.values()):\n",
    "    df_closet['brandnm'] = df_closet['brandnm'].fillna(i)"
   ]
  },
  {
   "cell_type": "code",
   "execution_count": 11,
   "id": "adverse-circular",
   "metadata": {},
   "outputs": [],
   "source": [
    "df_closet.replace(' ', np.nan, inplace = True)"
   ]
  },
  {
   "cell_type": "code",
   "execution_count": 12,
   "id": "vocational-details",
   "metadata": {},
   "outputs": [
    {
     "name": "stdout",
     "output_type": "stream",
     "text": [
      "<class 'pandas.core.frame.DataFrame'>\n",
      "RangeIndex: 1471 entries, 0 to 1470\n",
      "Data columns (total 8 columns):\n",
      " #   Column      Non-Null Count  Dtype         \n",
      "---  ------      --------------  -----         \n",
      " 0   brandnm     1469 non-null   object        \n",
      " 1   goodsnm     1471 non-null   object        \n",
      " 2   USER        1471 non-null   object        \n",
      " 3   reg_date    1466 non-null   datetime64[ns]\n",
      " 4   order_date  1471 non-null   datetime64[ns]\n",
      " 5   p_type      1471 non-null   object        \n",
      " 6   sub_type    1471 non-null   object        \n",
      " 7   app_yn      1471 non-null   object        \n",
      "dtypes: datetime64[ns](2), object(6)\n",
      "memory usage: 92.1+ KB\n"
     ]
    }
   ],
   "source": [
    "df_closet.info()"
   ]
  },
  {
   "cell_type": "markdown",
   "id": "declared-desert",
   "metadata": {},
   "source": [
    "## 주문 sub_type 별로 컷"
   ]
  },
  {
   "cell_type": "code",
   "execution_count": 13,
   "id": "equal-thailand",
   "metadata": {},
   "outputs": [],
   "source": [
    "df_closet_ba = df_closet[df_closet['sub_type']=='BA']\n",
    "df_closet_o = df_closet[df_closet['sub_type']=='O']\n",
    "df_closet_d = df_closet[df_closet['sub_type']=='D']\n",
    "df_closet_t = df_closet[df_closet['sub_type']=='T']\n",
    "df_closet_b = df_closet[df_closet['sub_type']=='B']\n",
    "df_closet_tp = df_closet[df_closet['sub_type']=='TP']"
   ]
  },
  {
   "cell_type": "code",
   "execution_count": 14,
   "id": "unsigned-convertible",
   "metadata": {},
   "outputs": [],
   "source": [
    "df_closet_b_list = df_closet_b['goodsnm'].to_list()"
   ]
  },
  {
   "cell_type": "code",
   "execution_count": 15,
   "id": "inclusive-elizabeth",
   "metadata": {},
   "outputs": [
    {
     "data": {
      "text/plain": [
       "['embroidery point oriental mini skirt blue',\n",
       " 'pocket basic pattern slacks black',\n",
       " 'slit basic pattern skirt white',\n",
       " 'check pattern unbalance skirt ivory',\n",
       " 'basic pattern skirt grey',\n",
       " 'heart pattern quilted skirts',\n",
       " 'pocket basic pattern wide-pants navy',\n",
       " 'roll up basic pattern slacks navy',\n",
       " 'basic pattern unbalance skirt skyblue',\n",
       " 'pocket graphics pattern sweat-pants white',\n",
       " 'pocket basic pattern wool slacks grey',\n",
       " 'pocket basic pattern slacks navy',\n",
       " 'pocket basic pattern skirt blue',\n",
       " 'button check pattern pants',\n",
       " 'pleats pocket wool skirt brown',\n",
       " 'pleats basic pattern pleats-skirt grey',\n",
       " 'basic pattern skirt grey',\n",
       " 'quilting detail denim skirt',\n",
       " 'pleats basic pattern wool pleats-skirt brown',\n",
       " 'pattern pointed a-line skirts',\n",
       " 'pocket basic pattern skirt white',\n",
       " 'button basic pattern pants brown',\n",
       " 'slit basic pattern skirt black',\n",
       " 'paisley print pattern skirt',\n",
       " 'pocket check pattern slacks charcoal',\n",
       " 'pocket stripe pattern slacks black',\n",
       " 'button check pattern wool slacks brown',\n",
       " 'pocket basic pattern wool slacks cream',\n",
       " 'pocket basic pattern chino-pants beige',\n",
       " 'check pattern mermaid trumpet-skirt grey',\n",
       " 'basic pattern wool skirt black',\n",
       " 'buckle basic pattern slacks black',\n",
       " 'basic pattern skirt ivory',\n",
       " 'lace flower pattern pleats-skirt pink',\n",
       " 'gather basic pattern unbalance wrap-skirt black',\n",
       " 'ruffle animal print pattern mermaid trumpet-skirt ivory',\n",
       " 'front slit patterned skirt',\n",
       " 'stitch detail midi skirt white',\n",
       " 'basic pattern skirt pink',\n",
       " 'punching basic pattern skirt skyblue',\n",
       " 'embroidery detail lace skirt multi',\n",
       " 'draping detail midi skirt gray',\n",
       " 'pocket basic pattern skirt green',\n",
       " 'ruffle basic pattern mermaid trumpet-skirt green',\n",
       " 'basic pattern skirt grey',\n",
       " 'ruffle lace pattern mermaid trumpet-skirt red',\n",
       " 'gather mermaid skirt black',\n",
       " 'band basic pattern slacks navy',\n",
       " 'pocket basic pattern slacks black',\n",
       " 'pocket basic pattern slacks black',\n",
       " 'ribbon basic pattern slacks black',\n",
       " 'ribbon check pattern wrap-skirt',\n",
       " 'pocket basic pattern slacks navy',\n",
       " 'pocket basic pattern jeans blue',\n",
       " 'pocket basic pattern slacks navy',\n",
       " 'slit basic pattern skirt white',\n",
       " 'lace detail long skirt black',\n",
       " 'check pattern kilt-skirt brown']"
      ]
     },
     "execution_count": 15,
     "metadata": {},
     "output_type": "execute_result"
    }
   ],
   "source": [
    "df_closet_b_list"
   ]
  },
  {
   "cell_type": "code",
   "execution_count": 18,
   "id": "trying-thirty",
   "metadata": {},
   "outputs": [
    {
     "name": "stdout",
     "output_type": "stream",
     "text": [
      "(58, 69)\n"
     ]
    }
   ],
   "source": [
    "#goodsnm 벡터화\n",
    "tfidf = TfidfVectorizer()\n",
    "\n",
    "tfidf_matrix_bottom = tfidf.fit_transform(df_closet_b['goodsnm'])\n",
    "print(tfidf_matrix_bottom.shape)"
   ]
  },
  {
   "cell_type": "code",
   "execution_count": 19,
   "id": "breeding-number",
   "metadata": {},
   "outputs": [
    {
     "name": "stdout",
     "output_type": "stream",
     "text": [
      "  (0, 5)\t0.39048674831878877\n",
      "  (0, 54)\t0.15804822793757034\n",
      "  (0, 33)\t0.4638129375111069\n",
      "  (0, 36)\t0.4638129375111069\n",
      "  (0, 44)\t0.4638129375111069\n",
      "  (0, 16)\t0.4209198665128158\n",
      "  (1, 4)\t0.5759963158662922\n",
      "  (1, 57)\t0.5120829294138277\n",
      "  (1, 39)\t0.25893853616766477\n",
      "  (1, 2)\t0.33817984354418973\n",
      "  (1, 43)\t0.4739035191040322\n",
      "  (2, 65)\t0.6129966546870037\n",
      "  (2, 58)\t0.6470106706227533\n",
      "  (2, 39)\t0.21743905318077447\n",
      "  (2, 2)\t0.28398053867678286\n",
      "  (2, 54)\t0.27872496344520375\n",
      "  (3, 25)\t0.5848835771774631\n",
      "  (3, 63)\t0.5848835771774631\n",
      "  (3, 10)\t0.47505325893941164\n",
      "  (3, 39)\t0.18467769224081143\n",
      "  (3, 54)\t0.23672970547829816\n",
      "  (4, 23)\t0.7899825583617416\n",
      "  (4, 39)\t0.29401202353489014\n",
      "  (4, 2)\t0.3839866463706227\n",
      "  (4, 54)\t0.3768802766266753\n",
      "  :\t:\n",
      "  (53, 26)\t0.6841117393707405\n",
      "  (53, 39)\t0.18185929214251664\n",
      "  (53, 2)\t0.23751253047939874\n",
      "  (53, 43)\t0.3328348101585862\n",
      "  (53, 5)\t0.5759575617426456\n",
      "  (54, 35)\t0.6481398792132462\n",
      "  (54, 57)\t0.47704565243440006\n",
      "  (54, 39)\t0.24122167686376425\n",
      "  (54, 2)\t0.31504120687711606\n",
      "  (54, 43)\t0.441478519349832\n",
      "  (55, 65)\t0.6129966546870037\n",
      "  (55, 58)\t0.6470106706227533\n",
      "  (55, 39)\t0.21743905318077447\n",
      "  (55, 2)\t0.28398053867678286\n",
      "  (55, 54)\t0.27872496344520375\n",
      "  (56, 30)\t0.6139328925293881\n",
      "  (56, 28)\t0.4856274758970445\n",
      "  (56, 14)\t0.4600975403735685\n",
      "  (56, 4)\t0.36303823954731884\n",
      "  (56, 54)\t0.2092028873914993\n",
      "  (57, 27)\t0.6717582739008443\n",
      "  (57, 6)\t0.5034334099187843\n",
      "  (57, 10)\t0.4593559439965439\n",
      "  (57, 39)\t0.17857533667651512\n",
      "  (57, 54)\t0.2289073809845742\n"
     ]
    }
   ],
   "source": [
    "print(tfidf_matrix_bottom)"
   ]
  },
  {
   "cell_type": "code",
   "execution_count": 20,
   "id": "assured-battlefield",
   "metadata": {},
   "outputs": [],
   "source": [
    "#코사인 유사도 측정\n",
    "cosine_matrix_bottom = cosine_similarity(tfidf_matrix_bottom, tfidf_matrix_bottom)"
   ]
  },
  {
   "cell_type": "code",
   "execution_count": 21,
   "id": "spare-harassment",
   "metadata": {},
   "outputs": [
    {
     "data": {
      "text/plain": [
       "(58, 58)"
      ]
     },
     "execution_count": 21,
     "metadata": {},
     "output_type": "execute_result"
    }
   ],
   "source": [
    "cosine_matrix_bottom.shape"
   ]
  },
  {
   "cell_type": "code",
   "execution_count": 23,
   "id": "smoking-leonard",
   "metadata": {},
   "outputs": [
    {
     "data": {
      "text/plain": [
       "array([[1.    , 0.    , 0.0441, ..., 0.0441, 0.0331, 0.0362],\n",
       "       [0.    , 1.    , 0.1523, ..., 0.1523, 0.2091, 0.0462],\n",
       "       [0.0441, 0.1523, 1.    , ..., 1.    , 0.0583, 0.1026],\n",
       "       ...,\n",
       "       [0.0441, 0.1523, 1.    , ..., 1.    , 0.0583, 0.1026],\n",
       "       [0.0331, 0.2091, 0.0583, ..., 0.0583, 1.    , 0.0479],\n",
       "       [0.0362, 0.0462, 0.1026, ..., 0.1026, 0.0479, 1.    ]])"
      ]
     },
     "execution_count": 23,
     "metadata": {},
     "output_type": "execute_result"
    }
   ],
   "source": [
    "np.round(cosine_matrix_bottom, 4)"
   ]
  },
  {
   "cell_type": "code",
   "execution_count": 24,
   "id": "accessory-aircraft",
   "metadata": {},
   "outputs": [],
   "source": [
    "#딕셔너리 생성\n",
    "goods_id = {}\n",
    "for i, c in enumerate(df_closet_b['goodsnm']): goods_id[i] = c\n",
    "#아이디 별 굿즈 이름\n",
    "id2goods_b = {}\n",
    "for i, c in goods_id.items(): id2goods_b[c] =i"
   ]
  },
  {
   "cell_type": "code",
   "execution_count": 26,
   "id": "designed-wiring",
   "metadata": {},
   "outputs": [
    {
     "data": {
      "text/plain": [
       "[(1, 1.0000000000000002),\n",
       " (48, 1.0000000000000002),\n",
       " (25, 0.6538873230543492),\n",
       " (11, 0.6225073330421497),\n",
       " (52, 0.6225073330421497),\n",
       " (54, 0.6225073330421497),\n",
       " (50, 0.6214580547261949),\n",
       " (31, 0.5905248692538959),\n",
       " (10, 0.5223808591514305),\n",
       " (30, 0.48766280518676697)]"
      ]
     },
     "execution_count": 26,
     "metadata": {},
     "output_type": "execute_result"
    }
   ],
   "source": [
    "idx = id2goods_b['pocket basic pattern slacks black']\n",
    "sim_scores_b = [(i,c) for i, c in enumerate(cosine_matrix_bottom[idx]) if i !=idx] \n",
    "sim_scores_b = sorted(sim_scores_b, key =lambda x: x[1], reverse = True)\n",
    "sim_scores_b[0:10]"
   ]
  },
  {
   "cell_type": "code",
   "execution_count": 29,
   "id": "ordered-jungle",
   "metadata": {},
   "outputs": [
    {
     "data": {
      "text/plain": [
       "[('pocket basic pattern slacks black', 1.0000000000000002),\n",
       " ('pocket basic pattern slacks black', 1.0000000000000002),\n",
       " ('pocket stripe pattern slacks black', 0.6538873230543492),\n",
       " ('pocket basic pattern slacks navy', 0.6225073330421497),\n",
       " ('pocket basic pattern slacks navy', 0.6225073330421497),\n",
       " ('pocket basic pattern slacks navy', 0.6225073330421497),\n",
       " ('ribbon basic pattern slacks black', 0.6214580547261949),\n",
       " ('buckle basic pattern slacks black', 0.5905248692538959),\n",
       " ('pocket basic pattern wool slacks grey', 0.5223808591514305),\n",
       " ('basic pattern wool skirt black', 0.48766280518676697)]"
      ]
     },
     "execution_count": 29,
     "metadata": {},
     "output_type": "execute_result"
    }
   ],
   "source": [
    "sim_scores_b = [(goods_id[i], score) for i , score in sim_scores_b[0:10]]\n",
    "sim_scores_b"
   ]
  },
  {
   "cell_type": "code",
   "execution_count": 30,
   "id": "coordinate-riding",
   "metadata": {},
   "outputs": [
    {
     "data": {
      "text/plain": [
       "[(21, 0.585255072653696),\n",
       " (13, 0.5755928906555773),\n",
       " (14, 0.4646411077909181),\n",
       " (57, 0.45864558302731673),\n",
       " (10, 0.40518533826161973),\n",
       " (18, 0.35994463017234096),\n",
       " (27, 0.35757640836705484),\n",
       " (24, 0.35306697132206044),\n",
       " (30, 0.33373512630582247),\n",
       " (3, 0.23211925019507262)]"
      ]
     },
     "execution_count": 30,
     "metadata": {},
     "output_type": "execute_result"
    }
   ],
   "source": [
    "#다른 후보\n",
    "idx2 = id2goods_b['button check pattern wool slacks brown']\n",
    "sim_scores_b = [(i,c) for i, c in enumerate(cosine_matrix_bottom[idx2]) if i !=idx2] \n",
    "sim_scores_b = sorted(sim_scores_b, key =lambda x: x[1], reverse = True)\n",
    "sim_scores_b[0:10]"
   ]
  },
  {
   "cell_type": "code",
   "execution_count": 31,
   "id": "patient-wayne",
   "metadata": {},
   "outputs": [
    {
     "data": {
      "text/plain": [
       "[('button basic pattern pants brown', 0.585255072653696),\n",
       " ('button check pattern pants', 0.5755928906555773),\n",
       " ('pleats pocket wool skirt brown', 0.4646411077909181),\n",
       " ('check pattern kilt-skirt brown', 0.45864558302731673),\n",
       " ('pocket basic pattern wool slacks grey', 0.40518533826161973),\n",
       " ('pleats basic pattern wool pleats-skirt brown', 0.35994463017234096),\n",
       " ('pocket basic pattern wool slacks cream', 0.35757640836705484),\n",
       " ('pocket check pattern slacks charcoal', 0.35306697132206044),\n",
       " ('basic pattern wool skirt black', 0.33373512630582247),\n",
       " ('check pattern unbalance skirt ivory', 0.23211925019507262)]"
      ]
     },
     "execution_count": 31,
     "metadata": {},
     "output_type": "execute_result"
    }
   ],
   "source": [
    "sim_scores_b2 = [(goods_id[i], score) for i , score in sim_scores_b[0:10]]\n",
    "sim_scores_b2"
   ]
  },
  {
   "cell_type": "code",
   "execution_count": null,
   "id": "framed-location",
   "metadata": {},
   "outputs": [],
   "source": []
  }
 ],
 "metadata": {
  "kernelspec": {
   "display_name": "Python 3",
   "language": "python",
   "name": "python3"
  },
  "language_info": {
   "codemirror_mode": {
    "name": "ipython",
    "version": 3
   },
   "file_extension": ".py",
   "mimetype": "text/x-python",
   "name": "python",
   "nbconvert_exporter": "python",
   "pygments_lexer": "ipython3",
   "version": "3.7.3"
  }
 },
 "nbformat": 4,
 "nbformat_minor": 5
}
