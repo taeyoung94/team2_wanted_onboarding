{
 "cells": [
  {
   "cell_type": "markdown",
   "metadata": {},
   "source": [
    "* ## 기본 그래픽 설정"
   ]
  },
  {
   "cell_type": "code",
   "execution_count": 1,
   "metadata": {},
   "outputs": [],
   "source": [
    "import pandas as pd\n",
    "import numpy as np\n",
    "import sklearn\n",
    "import matplotlib.pyplot as plt\n",
    "from matplotlib.gridspec import GridSpec\n",
    "import seaborn as sns\n",
    "\n",
    "def get_font_family():\n",
    "    import platform\n",
    "    system_name = platform.system()\n",
    "    # colab 사용자는 system_name이 'Linux'로 확인\n",
    "    if system_name == \"Darwin\" :\n",
    "        font_family = \"AppleGothic\"\n",
    "    elif system_name == \"Windows\":\n",
    "        font_family = \"Malgun Gothic\"\n",
    "    else:\n",
    "        !apt-get update -qq\n",
    "        !apt-get install fonts-nanum -qq  > /dev/null\n",
    "        import matplotlib.font_manager as fm\n",
    "        fontpath = '/usr/share/fonts/truetype/nanum/NanumBarunGothic.ttf'\n",
    "        font = fm.FontProperties(fname=fontpath, size=9)\n",
    "        fm._rebuild()\n",
    "        font_family = \"NanumBarunGothic\"\n",
    "    return font_family\n",
    "get_font_family()\n",
    "# 시각화를 위한 폰트설정\n",
    "# 위에서 만든 함수를 통해 시스템 폰트를 불러와서 font_family 라는 변수에 할당\n",
    "font_family = get_font_family()\n",
    "# 폰트설정\n",
    "plt.rc('font', family=font_family)\n",
    "# 마이너스폰트 설정\n",
    "plt.rc('axes', unicode_minus=False)\n",
    "# 그래프 스타일 설정\n",
    "plt.style.use('ggplot')\n",
    "# 그래프에 retina display 적용\n",
    "from IPython.display import set_matplotlib_formats\n",
    "set_matplotlib_formats('retina')"
   ]
  },
  {
   "cell_type": "markdown",
   "metadata": {},
   "source": [
    "* ## 랜덤 시드 설정 "
   ]
  },
  {
   "cell_type": "code",
   "execution_count": 2,
   "metadata": {},
   "outputs": [],
   "source": [
    "np.random.seed(42)"
   ]
  },
  {
   "cell_type": "markdown",
   "metadata": {},
   "source": [
    "* ## 데이터 불러오기"
   ]
  },
  {
   "cell_type": "code",
   "execution_count": 3,
   "metadata": {
    "scrolled": true
   },
   "outputs": [
    {
     "data": {
      "text/html": [
       "<div>\n",
       "<style scoped>\n",
       "    .dataframe tbody tr th:only-of-type {\n",
       "        vertical-align: middle;\n",
       "    }\n",
       "\n",
       "    .dataframe tbody tr th {\n",
       "        vertical-align: top;\n",
       "    }\n",
       "\n",
       "    .dataframe thead th {\n",
       "        text-align: right;\n",
       "    }\n",
       "</style>\n",
       "<table border=\"1\" class=\"dataframe\">\n",
       "  <thead>\n",
       "    <tr style=\"text-align: right;\">\n",
       "      <th></th>\n",
       "      <th>USER_ID</th>\n",
       "      <th>JOIN_DATE</th>\n",
       "      <th>D_TYPE</th>\n",
       "      <th>STORE_ID</th>\n",
       "      <th>GOODS_TYPE</th>\n",
       "      <th>DATE</th>\n",
       "      <th>COUNT</th>\n",
       "      <th>AD1</th>\n",
       "    </tr>\n",
       "  </thead>\n",
       "  <tbody>\n",
       "    <tr>\n",
       "      <th>0</th>\n",
       "      <td>2858</td>\n",
       "      <td>2014-01-07</td>\n",
       "      <td>AA</td>\n",
       "      <td>1892</td>\n",
       "      <td>A</td>\n",
       "      <td>2020-01-01</td>\n",
       "      <td>1</td>\n",
       "      <td>GN</td>\n",
       "    </tr>\n",
       "    <tr>\n",
       "      <th>1</th>\n",
       "      <td>5647</td>\n",
       "      <td>2014-02-14</td>\n",
       "      <td>BB</td>\n",
       "      <td>182009</td>\n",
       "      <td>A</td>\n",
       "      <td>2020-01-01</td>\n",
       "      <td>1</td>\n",
       "      <td>J</td>\n",
       "    </tr>\n",
       "    <tr>\n",
       "      <th>2</th>\n",
       "      <td>33314</td>\n",
       "      <td>2014-11-20</td>\n",
       "      <td>BB</td>\n",
       "      <td>82431</td>\n",
       "      <td>A</td>\n",
       "      <td>2020-01-01</td>\n",
       "      <td>1</td>\n",
       "      <td>SC</td>\n",
       "    </tr>\n",
       "    <tr>\n",
       "      <th>3</th>\n",
       "      <td>37001</td>\n",
       "      <td>2014-12-04</td>\n",
       "      <td>BB</td>\n",
       "      <td>725</td>\n",
       "      <td>C</td>\n",
       "      <td>2020-01-01</td>\n",
       "      <td>1</td>\n",
       "      <td>MP</td>\n",
       "    </tr>\n",
       "    <tr>\n",
       "      <th>4</th>\n",
       "      <td>37819</td>\n",
       "      <td>2014-12-07</td>\n",
       "      <td>AA</td>\n",
       "      <td>220691</td>\n",
       "      <td>C</td>\n",
       "      <td>2020-01-01</td>\n",
       "      <td>1</td>\n",
       "      <td>JRR</td>\n",
       "    </tr>\n",
       "    <tr>\n",
       "      <th>...</th>\n",
       "      <td>...</td>\n",
       "      <td>...</td>\n",
       "      <td>...</td>\n",
       "      <td>...</td>\n",
       "      <td>...</td>\n",
       "      <td>...</td>\n",
       "      <td>...</td>\n",
       "      <td>...</td>\n",
       "    </tr>\n",
       "    <tr>\n",
       "      <th>879266</th>\n",
       "      <td>1830551</td>\n",
       "      <td>2020-12-31</td>\n",
       "      <td>BB</td>\n",
       "      <td>219886</td>\n",
       "      <td>B</td>\n",
       "      <td>2020-12-31</td>\n",
       "      <td>1</td>\n",
       "      <td>GN</td>\n",
       "    </tr>\n",
       "    <tr>\n",
       "      <th>879267</th>\n",
       "      <td>1830570</td>\n",
       "      <td>2020-12-31</td>\n",
       "      <td>BB</td>\n",
       "      <td>82433</td>\n",
       "      <td>B</td>\n",
       "      <td>2020-12-31</td>\n",
       "      <td>1</td>\n",
       "      <td>CY</td>\n",
       "    </tr>\n",
       "    <tr>\n",
       "      <th>879268</th>\n",
       "      <td>1830580</td>\n",
       "      <td>2020-12-31</td>\n",
       "      <td>AA</td>\n",
       "      <td>92020</td>\n",
       "      <td>B</td>\n",
       "      <td>2020-12-31</td>\n",
       "      <td>1</td>\n",
       "      <td>JRR</td>\n",
       "    </tr>\n",
       "    <tr>\n",
       "      <th>879269</th>\n",
       "      <td>1830589</td>\n",
       "      <td>2020-12-31</td>\n",
       "      <td>BB</td>\n",
       "      <td>92437</td>\n",
       "      <td>B</td>\n",
       "      <td>2020-12-31</td>\n",
       "      <td>1</td>\n",
       "      <td>J</td>\n",
       "    </tr>\n",
       "    <tr>\n",
       "      <th>879270</th>\n",
       "      <td>1830598</td>\n",
       "      <td>2020-12-31</td>\n",
       "      <td>AA</td>\n",
       "      <td>220959</td>\n",
       "      <td>B</td>\n",
       "      <td>2020-12-31</td>\n",
       "      <td>1</td>\n",
       "      <td>SC</td>\n",
       "    </tr>\n",
       "  </tbody>\n",
       "</table>\n",
       "<p>879271 rows × 8 columns</p>\n",
       "</div>"
      ],
      "text/plain": [
       "        USER_ID   JOIN_DATE D_TYPE  STORE_ID GOODS_TYPE        DATE  COUNT  \\\n",
       "0          2858  2014-01-07     AA      1892          A  2020-01-01      1   \n",
       "1          5647  2014-02-14     BB    182009          A  2020-01-01      1   \n",
       "2         33314  2014-11-20     BB     82431          A  2020-01-01      1   \n",
       "3         37001  2014-12-04     BB       725          C  2020-01-01      1   \n",
       "4         37819  2014-12-07     AA    220691          C  2020-01-01      1   \n",
       "...         ...         ...    ...       ...        ...         ...    ...   \n",
       "879266  1830551  2020-12-31     BB    219886          B  2020-12-31      1   \n",
       "879267  1830570  2020-12-31     BB     82433          B  2020-12-31      1   \n",
       "879268  1830580  2020-12-31     AA     92020          B  2020-12-31      1   \n",
       "879269  1830589  2020-12-31     BB     92437          B  2020-12-31      1   \n",
       "879270  1830598  2020-12-31     AA    220959          B  2020-12-31      1   \n",
       "\n",
       "        AD1  \n",
       "0        GN  \n",
       "1         J  \n",
       "2        SC  \n",
       "3        MP  \n",
       "4       JRR  \n",
       "...     ...  \n",
       "879266   GN  \n",
       "879267   CY  \n",
       "879268  JRR  \n",
       "879269    J  \n",
       "879270   SC  \n",
       "\n",
       "[879271 rows x 8 columns]"
      ]
     },
     "execution_count": 3,
     "metadata": {},
     "output_type": "execute_result"
    }
   ],
   "source": [
    "df = pd.read_csv('./data/2nd/실전db.csv')\n",
    "df"
   ]
  },
  {
   "cell_type": "markdown",
   "metadata": {},
   "source": [
    "* ## 1970-01-01 전처리"
   ]
  },
  {
   "cell_type": "code",
   "execution_count": 4,
   "metadata": {},
   "outputs": [],
   "source": [
    "# 전처리\n",
    "# JOIN_DATE가 1970-01-01인 경우 => 2013-12-16\n",
    "df.loc[df['JOIN_DATE']=='1970-01-01', 'JOIN_DATE'] = '2013-12-16'"
   ]
  },
  {
   "cell_type": "code",
   "execution_count": 5,
   "metadata": {
    "scrolled": true
   },
   "outputs": [
    {
     "data": {
      "text/plain": [
       "176320    2013-12-16\n",
       "624928    2013-12-16\n",
       "625539    2013-12-16\n",
       "226658    2013-12-16\n",
       "226415    2013-12-16\n",
       "             ...    \n",
       "879214    2020-12-31\n",
       "879213    2020-12-31\n",
       "879212    2020-12-31\n",
       "879230    2020-12-31\n",
       "879270    2020-12-31\n",
       "Name: JOIN_DATE, Length: 879271, dtype: object"
      ]
     },
     "execution_count": 5,
     "metadata": {},
     "output_type": "execute_result"
    }
   ],
   "source": [
    "df['JOIN_DATE'].sort_values()"
   ]
  },
  {
   "cell_type": "markdown",
   "metadata": {},
   "source": [
    "* ## 파생변수 생성"
   ]
  },
  {
   "cell_type": "code",
   "execution_count": 6,
   "metadata": {
    "scrolled": true
   },
   "outputs": [
    {
     "data": {
      "text/html": [
       "<div>\n",
       "<style scoped>\n",
       "    .dataframe tbody tr th:only-of-type {\n",
       "        vertical-align: middle;\n",
       "    }\n",
       "\n",
       "    .dataframe tbody tr th {\n",
       "        vertical-align: top;\n",
       "    }\n",
       "\n",
       "    .dataframe thead th {\n",
       "        text-align: right;\n",
       "    }\n",
       "</style>\n",
       "<table border=\"1\" class=\"dataframe\">\n",
       "  <thead>\n",
       "    <tr style=\"text-align: right;\">\n",
       "      <th></th>\n",
       "      <th>USER_ID</th>\n",
       "      <th>JOIN_DATE</th>\n",
       "      <th>D_TYPE</th>\n",
       "      <th>STORE_ID</th>\n",
       "      <th>GOODS_TYPE</th>\n",
       "      <th>DATE</th>\n",
       "      <th>COUNT</th>\n",
       "      <th>AD1</th>\n",
       "      <th>ELAPSED_DAY</th>\n",
       "      <th>ELAPSED_TIME</th>\n",
       "      <th>ELAPSED_WEEK</th>\n",
       "    </tr>\n",
       "  </thead>\n",
       "  <tbody>\n",
       "    <tr>\n",
       "      <th>0</th>\n",
       "      <td>2858</td>\n",
       "      <td>2014-01-07</td>\n",
       "      <td>AA</td>\n",
       "      <td>1892</td>\n",
       "      <td>A</td>\n",
       "      <td>2020-01-01</td>\n",
       "      <td>1</td>\n",
       "      <td>GN</td>\n",
       "      <td>2185</td>\n",
       "      <td>3146400</td>\n",
       "      <td>313</td>\n",
       "    </tr>\n",
       "    <tr>\n",
       "      <th>1</th>\n",
       "      <td>5647</td>\n",
       "      <td>2014-02-14</td>\n",
       "      <td>BB</td>\n",
       "      <td>182009</td>\n",
       "      <td>A</td>\n",
       "      <td>2020-01-01</td>\n",
       "      <td>1</td>\n",
       "      <td>J</td>\n",
       "      <td>2147</td>\n",
       "      <td>3091680</td>\n",
       "      <td>307</td>\n",
       "    </tr>\n",
       "    <tr>\n",
       "      <th>2</th>\n",
       "      <td>33314</td>\n",
       "      <td>2014-11-20</td>\n",
       "      <td>BB</td>\n",
       "      <td>82431</td>\n",
       "      <td>A</td>\n",
       "      <td>2020-01-01</td>\n",
       "      <td>1</td>\n",
       "      <td>SC</td>\n",
       "      <td>1868</td>\n",
       "      <td>2689920</td>\n",
       "      <td>267</td>\n",
       "    </tr>\n",
       "    <tr>\n",
       "      <th>3</th>\n",
       "      <td>37001</td>\n",
       "      <td>2014-12-04</td>\n",
       "      <td>BB</td>\n",
       "      <td>725</td>\n",
       "      <td>C</td>\n",
       "      <td>2020-01-01</td>\n",
       "      <td>1</td>\n",
       "      <td>MP</td>\n",
       "      <td>1854</td>\n",
       "      <td>2669760</td>\n",
       "      <td>265</td>\n",
       "    </tr>\n",
       "    <tr>\n",
       "      <th>4</th>\n",
       "      <td>37819</td>\n",
       "      <td>2014-12-07</td>\n",
       "      <td>AA</td>\n",
       "      <td>220691</td>\n",
       "      <td>C</td>\n",
       "      <td>2020-01-01</td>\n",
       "      <td>1</td>\n",
       "      <td>JRR</td>\n",
       "      <td>1851</td>\n",
       "      <td>2665440</td>\n",
       "      <td>265</td>\n",
       "    </tr>\n",
       "    <tr>\n",
       "      <th>...</th>\n",
       "      <td>...</td>\n",
       "      <td>...</td>\n",
       "      <td>...</td>\n",
       "      <td>...</td>\n",
       "      <td>...</td>\n",
       "      <td>...</td>\n",
       "      <td>...</td>\n",
       "      <td>...</td>\n",
       "      <td>...</td>\n",
       "      <td>...</td>\n",
       "      <td>...</td>\n",
       "    </tr>\n",
       "    <tr>\n",
       "      <th>879266</th>\n",
       "      <td>1830551</td>\n",
       "      <td>2020-12-31</td>\n",
       "      <td>BB</td>\n",
       "      <td>219886</td>\n",
       "      <td>B</td>\n",
       "      <td>2020-12-31</td>\n",
       "      <td>1</td>\n",
       "      <td>GN</td>\n",
       "      <td>0</td>\n",
       "      <td>0</td>\n",
       "      <td>0</td>\n",
       "    </tr>\n",
       "    <tr>\n",
       "      <th>879267</th>\n",
       "      <td>1830570</td>\n",
       "      <td>2020-12-31</td>\n",
       "      <td>BB</td>\n",
       "      <td>82433</td>\n",
       "      <td>B</td>\n",
       "      <td>2020-12-31</td>\n",
       "      <td>1</td>\n",
       "      <td>CY</td>\n",
       "      <td>0</td>\n",
       "      <td>0</td>\n",
       "      <td>0</td>\n",
       "    </tr>\n",
       "    <tr>\n",
       "      <th>879268</th>\n",
       "      <td>1830580</td>\n",
       "      <td>2020-12-31</td>\n",
       "      <td>AA</td>\n",
       "      <td>92020</td>\n",
       "      <td>B</td>\n",
       "      <td>2020-12-31</td>\n",
       "      <td>1</td>\n",
       "      <td>JRR</td>\n",
       "      <td>0</td>\n",
       "      <td>0</td>\n",
       "      <td>0</td>\n",
       "    </tr>\n",
       "    <tr>\n",
       "      <th>879269</th>\n",
       "      <td>1830589</td>\n",
       "      <td>2020-12-31</td>\n",
       "      <td>BB</td>\n",
       "      <td>92437</td>\n",
       "      <td>B</td>\n",
       "      <td>2020-12-31</td>\n",
       "      <td>1</td>\n",
       "      <td>J</td>\n",
       "      <td>0</td>\n",
       "      <td>0</td>\n",
       "      <td>0</td>\n",
       "    </tr>\n",
       "    <tr>\n",
       "      <th>879270</th>\n",
       "      <td>1830598</td>\n",
       "      <td>2020-12-31</td>\n",
       "      <td>AA</td>\n",
       "      <td>220959</td>\n",
       "      <td>B</td>\n",
       "      <td>2020-12-31</td>\n",
       "      <td>1</td>\n",
       "      <td>SC</td>\n",
       "      <td>0</td>\n",
       "      <td>0</td>\n",
       "      <td>0</td>\n",
       "    </tr>\n",
       "  </tbody>\n",
       "</table>\n",
       "<p>879271 rows × 11 columns</p>\n",
       "</div>"
      ],
      "text/plain": [
       "        USER_ID  JOIN_DATE D_TYPE  STORE_ID GOODS_TYPE       DATE  COUNT  AD1  \\\n",
       "0          2858 2014-01-07     AA      1892          A 2020-01-01      1   GN   \n",
       "1          5647 2014-02-14     BB    182009          A 2020-01-01      1    J   \n",
       "2         33314 2014-11-20     BB     82431          A 2020-01-01      1   SC   \n",
       "3         37001 2014-12-04     BB       725          C 2020-01-01      1   MP   \n",
       "4         37819 2014-12-07     AA    220691          C 2020-01-01      1  JRR   \n",
       "...         ...        ...    ...       ...        ...        ...    ...  ...   \n",
       "879266  1830551 2020-12-31     BB    219886          B 2020-12-31      1   GN   \n",
       "879267  1830570 2020-12-31     BB     82433          B 2020-12-31      1   CY   \n",
       "879268  1830580 2020-12-31     AA     92020          B 2020-12-31      1  JRR   \n",
       "879269  1830589 2020-12-31     BB     92437          B 2020-12-31      1    J   \n",
       "879270  1830598 2020-12-31     AA    220959          B 2020-12-31      1   SC   \n",
       "\n",
       "        ELAPSED_DAY  ELAPSED_TIME  ELAPSED_WEEK  \n",
       "0              2185       3146400           313  \n",
       "1              2147       3091680           307  \n",
       "2              1868       2689920           267  \n",
       "3              1854       2669760           265  \n",
       "4              1851       2665440           265  \n",
       "...             ...           ...           ...  \n",
       "879266            0             0             0  \n",
       "879267            0             0             0  \n",
       "879268            0             0             0  \n",
       "879269            0             0             0  \n",
       "879270            0             0             0  \n",
       "\n",
       "[879271 rows x 11 columns]"
      ]
     },
     "execution_count": 6,
     "metadata": {},
     "output_type": "execute_result"
    }
   ],
   "source": [
    "df['JOIN_DATE'] = pd.to_datetime(df['JOIN_DATE'])\n",
    "df['DATE'] = pd.to_datetime(df['DATE'])\n",
    "df['ELAPSED_DAY'] = (df['DATE']-df['JOIN_DATE']).dt.days\n",
    "df['ELAPSED_TIME'] = df['ELAPSED_DAY']*24 *60\n",
    "df['ELAPSED_WEEK'] = (df['ELAPSED_DAY'] -1)//7 + 1\n",
    "\n",
    "df"
   ]
  },
  {
   "cell_type": "code",
   "execution_count": 7,
   "metadata": {},
   "outputs": [
    {
     "data": {
      "text/html": [
       "<div>\n",
       "<style scoped>\n",
       "    .dataframe tbody tr th:only-of-type {\n",
       "        vertical-align: middle;\n",
       "    }\n",
       "\n",
       "    .dataframe tbody tr th {\n",
       "        vertical-align: top;\n",
       "    }\n",
       "\n",
       "    .dataframe thead th {\n",
       "        text-align: right;\n",
       "    }\n",
       "</style>\n",
       "<table border=\"1\" class=\"dataframe\">\n",
       "  <thead>\n",
       "    <tr style=\"text-align: right;\">\n",
       "      <th></th>\n",
       "      <th>USER_ID</th>\n",
       "      <th>JOIN_DATE</th>\n",
       "      <th>D_TYPE</th>\n",
       "      <th>STORE_ID</th>\n",
       "      <th>GOODS_TYPE</th>\n",
       "      <th>DATE</th>\n",
       "      <th>COUNT</th>\n",
       "      <th>AD1</th>\n",
       "      <th>ELAPSED_DAY</th>\n",
       "      <th>ELAPSED_TIME</th>\n",
       "      <th>ELAPSED_WEEK</th>\n",
       "      <th>DoW</th>\n",
       "      <th>MONTH</th>\n",
       "      <th>DAY</th>\n",
       "    </tr>\n",
       "  </thead>\n",
       "  <tbody>\n",
       "    <tr>\n",
       "      <th>0</th>\n",
       "      <td>2858</td>\n",
       "      <td>2014-01-07</td>\n",
       "      <td>AA</td>\n",
       "      <td>1892</td>\n",
       "      <td>A</td>\n",
       "      <td>2020-01-01</td>\n",
       "      <td>1</td>\n",
       "      <td>GN</td>\n",
       "      <td>2185</td>\n",
       "      <td>3146400</td>\n",
       "      <td>313</td>\n",
       "      <td>Wednesday</td>\n",
       "      <td>1</td>\n",
       "      <td>1</td>\n",
       "    </tr>\n",
       "    <tr>\n",
       "      <th>1</th>\n",
       "      <td>5647</td>\n",
       "      <td>2014-02-14</td>\n",
       "      <td>BB</td>\n",
       "      <td>182009</td>\n",
       "      <td>A</td>\n",
       "      <td>2020-01-01</td>\n",
       "      <td>1</td>\n",
       "      <td>J</td>\n",
       "      <td>2147</td>\n",
       "      <td>3091680</td>\n",
       "      <td>307</td>\n",
       "      <td>Wednesday</td>\n",
       "      <td>1</td>\n",
       "      <td>1</td>\n",
       "    </tr>\n",
       "    <tr>\n",
       "      <th>2</th>\n",
       "      <td>33314</td>\n",
       "      <td>2014-11-20</td>\n",
       "      <td>BB</td>\n",
       "      <td>82431</td>\n",
       "      <td>A</td>\n",
       "      <td>2020-01-01</td>\n",
       "      <td>1</td>\n",
       "      <td>SC</td>\n",
       "      <td>1868</td>\n",
       "      <td>2689920</td>\n",
       "      <td>267</td>\n",
       "      <td>Wednesday</td>\n",
       "      <td>1</td>\n",
       "      <td>1</td>\n",
       "    </tr>\n",
       "    <tr>\n",
       "      <th>3</th>\n",
       "      <td>37001</td>\n",
       "      <td>2014-12-04</td>\n",
       "      <td>BB</td>\n",
       "      <td>725</td>\n",
       "      <td>C</td>\n",
       "      <td>2020-01-01</td>\n",
       "      <td>1</td>\n",
       "      <td>MP</td>\n",
       "      <td>1854</td>\n",
       "      <td>2669760</td>\n",
       "      <td>265</td>\n",
       "      <td>Wednesday</td>\n",
       "      <td>1</td>\n",
       "      <td>1</td>\n",
       "    </tr>\n",
       "    <tr>\n",
       "      <th>4</th>\n",
       "      <td>37819</td>\n",
       "      <td>2014-12-07</td>\n",
       "      <td>AA</td>\n",
       "      <td>220691</td>\n",
       "      <td>C</td>\n",
       "      <td>2020-01-01</td>\n",
       "      <td>1</td>\n",
       "      <td>JRR</td>\n",
       "      <td>1851</td>\n",
       "      <td>2665440</td>\n",
       "      <td>265</td>\n",
       "      <td>Wednesday</td>\n",
       "      <td>1</td>\n",
       "      <td>1</td>\n",
       "    </tr>\n",
       "    <tr>\n",
       "      <th>...</th>\n",
       "      <td>...</td>\n",
       "      <td>...</td>\n",
       "      <td>...</td>\n",
       "      <td>...</td>\n",
       "      <td>...</td>\n",
       "      <td>...</td>\n",
       "      <td>...</td>\n",
       "      <td>...</td>\n",
       "      <td>...</td>\n",
       "      <td>...</td>\n",
       "      <td>...</td>\n",
       "      <td>...</td>\n",
       "      <td>...</td>\n",
       "      <td>...</td>\n",
       "    </tr>\n",
       "    <tr>\n",
       "      <th>879266</th>\n",
       "      <td>1830551</td>\n",
       "      <td>2020-12-31</td>\n",
       "      <td>BB</td>\n",
       "      <td>219886</td>\n",
       "      <td>B</td>\n",
       "      <td>2020-12-31</td>\n",
       "      <td>1</td>\n",
       "      <td>GN</td>\n",
       "      <td>0</td>\n",
       "      <td>0</td>\n",
       "      <td>0</td>\n",
       "      <td>Thursday</td>\n",
       "      <td>12</td>\n",
       "      <td>31</td>\n",
       "    </tr>\n",
       "    <tr>\n",
       "      <th>879267</th>\n",
       "      <td>1830570</td>\n",
       "      <td>2020-12-31</td>\n",
       "      <td>BB</td>\n",
       "      <td>82433</td>\n",
       "      <td>B</td>\n",
       "      <td>2020-12-31</td>\n",
       "      <td>1</td>\n",
       "      <td>CY</td>\n",
       "      <td>0</td>\n",
       "      <td>0</td>\n",
       "      <td>0</td>\n",
       "      <td>Thursday</td>\n",
       "      <td>12</td>\n",
       "      <td>31</td>\n",
       "    </tr>\n",
       "    <tr>\n",
       "      <th>879268</th>\n",
       "      <td>1830580</td>\n",
       "      <td>2020-12-31</td>\n",
       "      <td>AA</td>\n",
       "      <td>92020</td>\n",
       "      <td>B</td>\n",
       "      <td>2020-12-31</td>\n",
       "      <td>1</td>\n",
       "      <td>JRR</td>\n",
       "      <td>0</td>\n",
       "      <td>0</td>\n",
       "      <td>0</td>\n",
       "      <td>Thursday</td>\n",
       "      <td>12</td>\n",
       "      <td>31</td>\n",
       "    </tr>\n",
       "    <tr>\n",
       "      <th>879269</th>\n",
       "      <td>1830589</td>\n",
       "      <td>2020-12-31</td>\n",
       "      <td>BB</td>\n",
       "      <td>92437</td>\n",
       "      <td>B</td>\n",
       "      <td>2020-12-31</td>\n",
       "      <td>1</td>\n",
       "      <td>J</td>\n",
       "      <td>0</td>\n",
       "      <td>0</td>\n",
       "      <td>0</td>\n",
       "      <td>Thursday</td>\n",
       "      <td>12</td>\n",
       "      <td>31</td>\n",
       "    </tr>\n",
       "    <tr>\n",
       "      <th>879270</th>\n",
       "      <td>1830598</td>\n",
       "      <td>2020-12-31</td>\n",
       "      <td>AA</td>\n",
       "      <td>220959</td>\n",
       "      <td>B</td>\n",
       "      <td>2020-12-31</td>\n",
       "      <td>1</td>\n",
       "      <td>SC</td>\n",
       "      <td>0</td>\n",
       "      <td>0</td>\n",
       "      <td>0</td>\n",
       "      <td>Thursday</td>\n",
       "      <td>12</td>\n",
       "      <td>31</td>\n",
       "    </tr>\n",
       "  </tbody>\n",
       "</table>\n",
       "<p>879271 rows × 14 columns</p>\n",
       "</div>"
      ],
      "text/plain": [
       "        USER_ID  JOIN_DATE D_TYPE  STORE_ID GOODS_TYPE       DATE  COUNT  AD1  \\\n",
       "0          2858 2014-01-07     AA      1892          A 2020-01-01      1   GN   \n",
       "1          5647 2014-02-14     BB    182009          A 2020-01-01      1    J   \n",
       "2         33314 2014-11-20     BB     82431          A 2020-01-01      1   SC   \n",
       "3         37001 2014-12-04     BB       725          C 2020-01-01      1   MP   \n",
       "4         37819 2014-12-07     AA    220691          C 2020-01-01      1  JRR   \n",
       "...         ...        ...    ...       ...        ...        ...    ...  ...   \n",
       "879266  1830551 2020-12-31     BB    219886          B 2020-12-31      1   GN   \n",
       "879267  1830570 2020-12-31     BB     82433          B 2020-12-31      1   CY   \n",
       "879268  1830580 2020-12-31     AA     92020          B 2020-12-31      1  JRR   \n",
       "879269  1830589 2020-12-31     BB     92437          B 2020-12-31      1    J   \n",
       "879270  1830598 2020-12-31     AA    220959          B 2020-12-31      1   SC   \n",
       "\n",
       "        ELAPSED_DAY  ELAPSED_TIME  ELAPSED_WEEK        DoW  MONTH  DAY  \n",
       "0              2185       3146400           313  Wednesday      1    1  \n",
       "1              2147       3091680           307  Wednesday      1    1  \n",
       "2              1868       2689920           267  Wednesday      1    1  \n",
       "3              1854       2669760           265  Wednesday      1    1  \n",
       "4              1851       2665440           265  Wednesday      1    1  \n",
       "...             ...           ...           ...        ...    ...  ...  \n",
       "879266            0             0             0   Thursday     12   31  \n",
       "879267            0             0             0   Thursday     12   31  \n",
       "879268            0             0             0   Thursday     12   31  \n",
       "879269            0             0             0   Thursday     12   31  \n",
       "879270            0             0             0   Thursday     12   31  \n",
       "\n",
       "[879271 rows x 14 columns]"
      ]
     },
     "execution_count": 7,
     "metadata": {},
     "output_type": "execute_result"
    }
   ],
   "source": [
    "df['DoW'] = df['DATE'].dt.day_name()\n",
    "df['MONTH'] = df['DATE'].dt.month\n",
    "df['DAY'] = df['DATE'].dt.day\n",
    "\n",
    "df"
   ]
  },
  {
   "cell_type": "markdown",
   "metadata": {},
   "source": [
    "# Training / Test"
   ]
  },
  {
   "cell_type": "markdown",
   "metadata": {},
   "source": [
    "* ## 기본 feature"
   ]
  },
  {
   "cell_type": "code",
   "execution_count": 8,
   "metadata": {},
   "outputs": [
    {
     "name": "stdout",
     "output_type": "stream",
     "text": [
      "mse : 0.1520321794137789\n",
      "rmse : 0.38991304083574696\n"
     ]
    }
   ],
   "source": [
    "from sklearn.compose import ColumnTransformer\n",
    "from sklearn.preprocessing import OrdinalEncoder\n",
    "from sklearn.ensemble import RandomForestRegressor\n",
    "from sklearn.model_selection import KFold\n",
    "from sklearn.model_selection import cross_val_score\n",
    "from sklearn.metrics import mean_squared_error\n",
    "\n",
    "feature = ['D_TYPE', 'GOODS_TYPE', 'AD1', 'COUNT']\n",
    "df_new = df.loc[:,feature]\n",
    "\n",
    "x = df_new.drop('COUNT', axis=1)\n",
    "t = df_new['COUNT'].values.ravel()\n",
    "\n",
    "ct = ColumnTransformer([('label', OrdinalEncoder(), ['AD1', 'D_TYPE', 'GOODS_TYPE'])], remainder='passthrough')\n",
    "trans = ct.fit_transform(x)\n",
    "\n",
    "x_train, t_train = trans[:623579,:], t[:623579]\n",
    "x_test, t_test = trans[623579:,:], t[623579:]\n",
    "model = RandomForestRegressor()\n",
    "kfold = 5\n",
    "kfold_score = cross_val_score(model, x_train, t_train, cv=kfold, scoring='neg_mean_squared_error')\n",
    "print(f'mse : {np.mean(-kfold_score)}')\n",
    "print(f'rmse : {np.sqrt(np.mean(-kfold_score))}')"
   ]
  },
  {
   "cell_type": "code",
   "execution_count": 9,
   "metadata": {},
   "outputs": [
    {
     "name": "stdout",
     "output_type": "stream",
     "text": [
      "mse : 0.37979799279371995\n",
      "rmse : 0.6162775290351904\n"
     ]
    }
   ],
   "source": [
    "model = RandomForestRegressor()\n",
    "model.fit(x_train, t_train)\n",
    "pred = model.predict(x_test)\n",
    "mse = mean_squared_error(pred, t_test)\n",
    "rmse = np.sqrt(mse)\n",
    "print(f'mse : {mse}')\n",
    "print(f'rmse : {rmse}')"
   ]
  },
  {
   "cell_type": "markdown",
   "metadata": {},
   "source": [
    "* ## 기본 feature + 경과 시간"
   ]
  },
  {
   "cell_type": "code",
   "execution_count": 10,
   "metadata": {},
   "outputs": [
    {
     "name": "stdout",
     "output_type": "stream",
     "text": [
      "mse : 0.10027181302612749\n",
      "rmse : 0.3166572484976895\n"
     ]
    }
   ],
   "source": [
    "from sklearn.compose import ColumnTransformer\n",
    "from sklearn.preprocessing import OrdinalEncoder\n",
    "from sklearn.ensemble import RandomForestRegressor\n",
    "from sklearn.model_selection import KFold\n",
    "from sklearn.model_selection import cross_val_score\n",
    "from sklearn.metrics import mean_squared_error\n",
    "\n",
    "feature = ['D_TYPE', 'GOODS_TYPE', 'AD1','ELAPSED_TIME', 'COUNT']\n",
    "df_new = df.loc[:,feature]\n",
    "\n",
    "x = df_new.drop('COUNT', axis=1)\n",
    "t = df_new['COUNT'].values.ravel()\n",
    "\n",
    "ct = ColumnTransformer([('label', OrdinalEncoder(), ['AD1', 'D_TYPE', 'GOODS_TYPE'])], remainder='passthrough')\n",
    "trans = ct.fit_transform(x)\n",
    "\n",
    "x_train, t_train = trans[:623579,:], t[:623579]\n",
    "x_test, t_test = trans[623579:,:], t[623579:]\n",
    "model = RandomForestRegressor()\n",
    "kfold = 5\n",
    "kfold_score = cross_val_score(model, x_train, t_train, cv=kfold, scoring='neg_mean_squared_error')\n",
    "print(f'mse : {np.mean(-kfold_score)}')\n",
    "print(f'rmse : {np.sqrt(np.mean(-kfold_score))}')"
   ]
  },
  {
   "cell_type": "code",
   "execution_count": 11,
   "metadata": {},
   "outputs": [
    {
     "name": "stdout",
     "output_type": "stream",
     "text": [
      "mse : 0.17434759600481034\n",
      "rmse : 0.41754951323742473\n"
     ]
    }
   ],
   "source": [
    "model = RandomForestRegressor()\n",
    "model.fit(x_train, t_train)\n",
    "pred = model.predict(x_test)\n",
    "mse = mean_squared_error(pred, t_test)\n",
    "rmse = np.sqrt(mse)\n",
    "print(f'mse : {mse}')\n",
    "print(f'rmse : {rmse}')"
   ]
  },
  {
   "cell_type": "markdown",
   "metadata": {},
   "source": [
    "* ## 기본 feature + 경과 일"
   ]
  },
  {
   "cell_type": "code",
   "execution_count": 12,
   "metadata": {},
   "outputs": [
    {
     "name": "stdout",
     "output_type": "stream",
     "text": [
      "mse : 0.09893048582901409\n",
      "rmse : 0.31453216978397314\n"
     ]
    }
   ],
   "source": [
    "from sklearn.compose import ColumnTransformer\n",
    "from sklearn.preprocessing import OrdinalEncoder\n",
    "from sklearn.ensemble import RandomForestRegressor\n",
    "from sklearn.model_selection import KFold\n",
    "from sklearn.model_selection import cross_val_score\n",
    "from sklearn.metrics import mean_squared_error\n",
    "\n",
    "feature = ['D_TYPE', 'GOODS_TYPE', 'AD1','ELAPSED_DAY', 'COUNT']\n",
    "df_new = df.loc[:,feature]\n",
    "\n",
    "x = df_new.drop('COUNT', axis=1)\n",
    "t = df_new['COUNT'].values.ravel()\n",
    "\n",
    "ct = ColumnTransformer([('label', OrdinalEncoder(), ['AD1', 'D_TYPE', 'GOODS_TYPE'])], remainder='passthrough')\n",
    "trans = ct.fit_transform(x)\n",
    "\n",
    "x_train, t_train = trans[:623579,:], t[:623579]\n",
    "x_test, t_test = trans[623579:,:], t[623579:]\n",
    "model = RandomForestRegressor()\n",
    "kfold = 5\n",
    "kfold_score = cross_val_score(model, x_train, t_train, cv=kfold, scoring='neg_mean_squared_error')\n",
    "print(f'mse : {np.mean(-kfold_score)}')\n",
    "print(f'rmse : {np.sqrt(np.mean(-kfold_score))}')"
   ]
  },
  {
   "cell_type": "code",
   "execution_count": 13,
   "metadata": {},
   "outputs": [
    {
     "name": "stdout",
     "output_type": "stream",
     "text": [
      "mse : 0.17328714868054973\n",
      "rmse : 0.4162777302241254\n"
     ]
    }
   ],
   "source": [
    "model = RandomForestRegressor()\n",
    "model.fit(x_train, t_train)\n",
    "pred = model.predict(x_test)\n",
    "mse = mean_squared_error(pred, t_test)\n",
    "rmse = np.sqrt(mse)\n",
    "print(f'mse : {mse}')\n",
    "print(f'rmse : {rmse}')"
   ]
  },
  {
   "cell_type": "markdown",
   "metadata": {},
   "source": [
    "* ## 기본 feature + 경과 주"
   ]
  },
  {
   "cell_type": "code",
   "execution_count": 14,
   "metadata": {},
   "outputs": [
    {
     "name": "stdout",
     "output_type": "stream",
     "text": [
      "mse : 0.0972554043879821\n",
      "rmse : 0.3118579875327584\n"
     ]
    }
   ],
   "source": [
    "from sklearn.compose import ColumnTransformer\n",
    "from sklearn.preprocessing import OrdinalEncoder\n",
    "from sklearn.ensemble import RandomForestRegressor\n",
    "from sklearn.model_selection import KFold, cross_val_score\n",
    "from sklearn.metrics import mean_squared_error\n",
    "\n",
    "feature = ['D_TYPE', 'GOODS_TYPE', 'AD1','ELAPSED_WEEK', 'COUNT']\n",
    "df_new = df.loc[:,feature]\n",
    "\n",
    "x = df_new.drop('COUNT', axis=1)\n",
    "t = df_new['COUNT'].values.ravel()\n",
    "\n",
    "ct = ColumnTransformer([('label', OrdinalEncoder(), ['AD1', 'D_TYPE', 'GOODS_TYPE'])], remainder='passthrough')\n",
    "trans = ct.fit_transform(x)\n",
    "\n",
    "x_train, t_train = trans[:623579,:], t[:623579]\n",
    "x_test, t_test = trans[623579:,:], t[623579:]\n",
    "model = RandomForestRegressor()\n",
    "kfold = 5\n",
    "kfold_score = cross_val_score(model, x_train, t_train, cv=kfold, scoring='neg_mean_squared_error')\n",
    "print(f'mse : {np.mean(-kfold_score)}')\n",
    "print(f'rmse : {np.sqrt(np.mean(-kfold_score))}')"
   ]
  },
  {
   "cell_type": "code",
   "execution_count": 15,
   "metadata": {},
   "outputs": [
    {
     "name": "stdout",
     "output_type": "stream",
     "text": [
      "mse : 0.1786166629733196\n",
      "rmse : 0.42263064604133904\n"
     ]
    }
   ],
   "source": [
    "model = RandomForestRegressor()\n",
    "model.fit(x_train, t_train)\n",
    "pred = model.predict(x_test)\n",
    "mse = mean_squared_error(pred, t_test)\n",
    "rmse = np.sqrt(mse)\n",
    "print(f'mse : {mse}')\n",
    "print(f'rmse : {rmse}')"
   ]
  },
  {
   "cell_type": "markdown",
   "metadata": {},
   "source": [
    "* ## 기본 feature + 요일"
   ]
  },
  {
   "cell_type": "code",
   "execution_count": 16,
   "metadata": {},
   "outputs": [
    {
     "name": "stdout",
     "output_type": "stream",
     "text": [
      "mse : 0.159660223431718\n",
      "rmse : 0.3995750535653071\n"
     ]
    }
   ],
   "source": [
    "from sklearn.compose import ColumnTransformer\n",
    "from sklearn.preprocessing import OrdinalEncoder\n",
    "from sklearn.ensemble import RandomForestRegressor\n",
    "from sklearn.model_selection import KFold, cross_val_score\n",
    "from sklearn.metrics import mean_squared_error\n",
    "\n",
    "feature = ['D_TYPE', 'GOODS_TYPE', 'AD1','DoW', 'COUNT']\n",
    "df_new = df.loc[:,feature]\n",
    "\n",
    "\n",
    "x = df_new.drop('COUNT', axis=1)\n",
    "t = df_new['COUNT'].values.ravel()\n",
    "\n",
    "ct = ColumnTransformer([('label', OrdinalEncoder(), ['AD1', 'D_TYPE', 'GOODS_TYPE', 'DoW'])], remainder='passthrough')\n",
    "trans = ct.fit_transform(x)\n",
    "\n",
    "x_train, t_train = trans[:623579,:], t[:623579]\n",
    "x_test, t_test = trans[623579:,:], t[623579:]\n",
    "model = RandomForestRegressor()\n",
    "kfold = 5\n",
    "kfold_score = cross_val_score(model, x_train, t_train, cv=kfold, scoring='neg_mean_squared_error')\n",
    "print(f'mse : {np.mean(-kfold_score)}')\n",
    "print(f'rmse : {np.sqrt(np.mean(-kfold_score))}')"
   ]
  },
  {
   "cell_type": "code",
   "execution_count": 17,
   "metadata": {},
   "outputs": [
    {
     "name": "stdout",
     "output_type": "stream",
     "text": [
      "mse : 0.3789665188114296\n",
      "rmse : 0.6156025656309675\n"
     ]
    }
   ],
   "source": [
    "model = RandomForestRegressor()\n",
    "model.fit(x_train, t_train)\n",
    "pred = model.predict(x_test)\n",
    "mse = mean_squared_error(pred, t_test)\n",
    "rmse = np.sqrt(mse)\n",
    "print(f'mse : {mse}')\n",
    "print(f'rmse : {rmse}')"
   ]
  },
  {
   "cell_type": "markdown",
   "metadata": {},
   "source": [
    "* ## 기본 feature + 경과 주 + 경과 일"
   ]
  },
  {
   "cell_type": "code",
   "execution_count": 18,
   "metadata": {},
   "outputs": [
    {
     "name": "stdout",
     "output_type": "stream",
     "text": [
      "mse : 0.10070671169721117\n",
      "rmse : 0.3173432080527503\n"
     ]
    }
   ],
   "source": [
    "from sklearn.compose import ColumnTransformer\n",
    "from sklearn.preprocessing import OrdinalEncoder\n",
    "from sklearn.ensemble import RandomForestRegressor\n",
    "from sklearn.model_selection import KFold, cross_val_score\n",
    "from sklearn.metrics import mean_squared_error\n",
    "\n",
    "feature = ['D_TYPE', 'GOODS_TYPE', 'AD1','ELAPSED_WEEK','ELAPSED_DAY', 'COUNT']\n",
    "df_new = df.loc[:,feature]\n",
    "\n",
    "x = df_new.drop('COUNT', axis=1)\n",
    "t = df_new['COUNT'].values.ravel()\n",
    "\n",
    "ct = ColumnTransformer([('label', OrdinalEncoder(), ['AD1', 'D_TYPE', 'GOODS_TYPE'])], remainder='passthrough')\n",
    "trans = ct.fit_transform(x)\n",
    "\n",
    "x_train, t_train = trans[:623579,:], t[:623579]\n",
    "x_test, t_test = trans[623579:,:], t[623579:]\n",
    "model = RandomForestRegressor()\n",
    "kfold = 5\n",
    "kfold_score = cross_val_score(model, x_train, t_train, cv=kfold, scoring='neg_mean_squared_error')\n",
    "print(f'mse : {np.mean(-kfold_score)}')\n",
    "print(f'rmse : {np.sqrt(np.mean(-kfold_score))}')"
   ]
  },
  {
   "cell_type": "code",
   "execution_count": 19,
   "metadata": {},
   "outputs": [
    {
     "name": "stdout",
     "output_type": "stream",
     "text": [
      "mse : 0.1746507533068325\n",
      "rmse : 0.4179123751539699\n"
     ]
    }
   ],
   "source": [
    "model = RandomForestRegressor()\n",
    "model.fit(x_train, t_train)\n",
    "pred = model.predict(x_test)\n",
    "mse = mean_squared_error(pred, t_test)\n",
    "rmse = np.sqrt(mse)\n",
    "print(f'mse : {mse}')\n",
    "print(f'rmse : {rmse}')"
   ]
  },
  {
   "cell_type": "markdown",
   "metadata": {},
   "source": [
    "* ## 기본 feature + 경과 주 + 요일"
   ]
  },
  {
   "cell_type": "code",
   "execution_count": 20,
   "metadata": {},
   "outputs": [
    {
     "name": "stdout",
     "output_type": "stream",
     "text": [
      "mse : 0.09379597001792109\n",
      "rmse : 0.3062612773726399\n"
     ]
    }
   ],
   "source": [
    "from sklearn.compose import ColumnTransformer\n",
    "from sklearn.preprocessing import OrdinalEncoder\n",
    "from sklearn.ensemble import RandomForestRegressor\n",
    "from sklearn.model_selection import KFold, cross_val_score\n",
    "from sklearn.metrics import mean_squared_error\n",
    "\n",
    "feature = ['D_TYPE', 'GOODS_TYPE', 'AD1','DoW', 'COUNT', 'ELAPSED_WEEK']\n",
    "df_new = df.loc[:,feature]\n",
    "\n",
    "\n",
    "x = df_new.drop('COUNT', axis=1)\n",
    "t = df_new['COUNT'].values.ravel()\n",
    "\n",
    "ct = ColumnTransformer([('label', OrdinalEncoder(), ['AD1', 'D_TYPE', 'GOODS_TYPE', 'DoW'])], remainder='passthrough')\n",
    "trans = ct.fit_transform(x)\n",
    "\n",
    "x_train, t_train = trans[:623579,:], t[:623579]\n",
    "x_test, t_test = trans[623579:,:], t[623579:]\n",
    "model = RandomForestRegressor()\n",
    "kfold = 5\n",
    "kfold_score = cross_val_score(model, x_train, t_train, cv=kfold, scoring='neg_mean_squared_error')\n",
    "print(f'mse : {np.mean(-kfold_score)}')\n",
    "print(f'rmse : {np.sqrt(np.mean(-kfold_score))}')"
   ]
  },
  {
   "cell_type": "code",
   "execution_count": 21,
   "metadata": {},
   "outputs": [
    {
     "name": "stdout",
     "output_type": "stream",
     "text": [
      "mse : 0.18186515177404491\n",
      "rmse : 0.426456506309899\n"
     ]
    }
   ],
   "source": [
    "model = RandomForestRegressor()\n",
    "model.fit(x_train, t_train)\n",
    "pred = model.predict(x_test)\n",
    "mse = mean_squared_error(pred, t_test)\n",
    "rmse = np.sqrt(mse)\n",
    "print(f'mse : {mse}')\n",
    "print(f'rmse : {rmse}')"
   ]
  },
  {
   "cell_type": "markdown",
   "metadata": {},
   "source": [
    "* ## 기본 feature + 경과 주 + 달 + 일 + 요일"
   ]
  },
  {
   "cell_type": "code",
   "execution_count": 22,
   "metadata": {},
   "outputs": [
    {
     "name": "stdout",
     "output_type": "stream",
     "text": [
      "mse : 0.07762089275573388\n",
      "rmse : 0.27860526333099644\n"
     ]
    }
   ],
   "source": [
    "from sklearn.compose import ColumnTransformer\n",
    "from sklearn.preprocessing import OrdinalEncoder\n",
    "from sklearn.ensemble import RandomForestRegressor\n",
    "from sklearn.model_selection import KFold, cross_val_score\n",
    "from sklearn.metrics import mean_squared_error\n",
    "\n",
    "feature = ['D_TYPE', 'GOODS_TYPE', 'AD1','DoW','MONTH', 'DAY','COUNT', 'ELAPSED_WEEK']\n",
    "df_new = df.loc[:,feature]\n",
    "\n",
    "\n",
    "x = df_new.drop('COUNT', axis=1)\n",
    "t = df_new['COUNT'].values.ravel()\n",
    "\n",
    "ct = ColumnTransformer([('label', OrdinalEncoder(), ['AD1', 'D_TYPE', 'GOODS_TYPE', 'DoW'])], remainder='passthrough')\n",
    "trans = ct.fit_transform(x)\n",
    "\n",
    "x_train, t_train = trans[:623579,:], t[:623579]\n",
    "x_test, t_test = trans[623579:,:], t[623579:]\n",
    "model = RandomForestRegressor()\n",
    "kfold = 5\n",
    "kfold_score = cross_val_score(model, x_train, t_train, cv=kfold, scoring='neg_mean_squared_error')\n",
    "print(f'mse : {np.mean(-kfold_score)}')\n",
    "print(f'rmse : {np.sqrt(np.mean(-kfold_score))}')"
   ]
  },
  {
   "cell_type": "code",
   "execution_count": 23,
   "metadata": {},
   "outputs": [
    {
     "name": "stdout",
     "output_type": "stream",
     "text": [
      "mse : 0.1814375963954365\n",
      "rmse : 0.4259549229618511\n"
     ]
    }
   ],
   "source": [
    "model = RandomForestRegressor()\n",
    "model.fit(x_train, t_train)\n",
    "pred = model.predict(x_test)\n",
    "mse = mean_squared_error(pred, t_test)\n",
    "rmse = np.sqrt(mse)\n",
    "print(f'mse : {mse}')\n",
    "print(f'rmse : {rmse}')"
   ]
  },
  {
   "cell_type": "markdown",
   "metadata": {},
   "source": [
    "* ## 기본 feature + 경과 주 + 달 + 일"
   ]
  },
  {
   "cell_type": "code",
   "execution_count": 25,
   "metadata": {},
   "outputs": [
    {
     "name": "stdout",
     "output_type": "stream",
     "text": [
      "mse : 0.07947312337494737\n",
      "rmse : 0.2819097787856026\n"
     ]
    }
   ],
   "source": [
    "from sklearn.compose import ColumnTransformer\n",
    "from sklearn.preprocessing import OrdinalEncoder\n",
    "from sklearn.ensemble import RandomForestRegressor\n",
    "from sklearn.model_selection import KFold, cross_val_score\n",
    "from sklearn.metrics import mean_squared_error\n",
    "\n",
    "feature = ['D_TYPE', 'GOODS_TYPE', 'AD1','MONTH', 'DAY','COUNT', 'ELAPSED_WEEK']\n",
    "df_new = df.loc[:,feature]\n",
    "\n",
    "\n",
    "\n",
    "x = df_new.drop('COUNT', axis=1)\n",
    "t = df_new['COUNT'].values.ravel()\n",
    "\n",
    "ct = ColumnTransformer([('label', OrdinalEncoder(), ['AD1', 'D_TYPE', 'GOODS_TYPE'])], remainder='passthrough')\n",
    "trans = ct.fit_transform(x)\n",
    "\n",
    "x_train, t_train = trans[:623579,:], t[:623579]\n",
    "x_test, t_test = trans[623579:,:], t[623579:]\n",
    "model = RandomForestRegressor()\n",
    "kfold = 5\n",
    "kfold_score = cross_val_score(model, x_train, t_train, cv=kfold, scoring='neg_mean_squared_error')\n",
    "print(f'mse : {np.mean(-kfold_score)}')\n",
    "print(f'rmse : {np.sqrt(np.mean(-kfold_score))}')"
   ]
  },
  {
   "cell_type": "code",
   "execution_count": 26,
   "metadata": {},
   "outputs": [
    {
     "name": "stdout",
     "output_type": "stream",
     "text": [
      "mse : 0.18556942718273697\n",
      "rmse : 0.4307777004241712\n"
     ]
    }
   ],
   "source": [
    "model = RandomForestRegressor()\n",
    "model.fit(x_train, t_train)\n",
    "pred = model.predict(x_test)\n",
    "mse = mean_squared_error(pred, t_test)\n",
    "rmse = np.sqrt(mse)\n",
    "print(f'mse : {mse}')\n",
    "print(f'rmse : {rmse}')"
   ]
  },
  {
   "cell_type": "markdown",
   "metadata": {},
   "source": [
    "* ## 기본 feature + 경과일 + 경과주 + 달 + 일"
   ]
  },
  {
   "cell_type": "code",
   "execution_count": 30,
   "metadata": {},
   "outputs": [
    {
     "name": "stdout",
     "output_type": "stream",
     "text": [
      "mse : 0.07904446909451475\n",
      "rmse : 0.281148482290968\n"
     ]
    }
   ],
   "source": [
    "from sklearn.compose import ColumnTransformer\n",
    "from sklearn.preprocessing import OrdinalEncoder\n",
    "from sklearn.ensemble import RandomForestRegressor\n",
    "from sklearn.model_selection import KFold, cross_val_score\n",
    "from sklearn.metrics import mean_squared_error\n",
    "\n",
    "feature = ['D_TYPE', 'GOODS_TYPE', 'AD1','MONTH','DAY','ELAPSED_DAY' ,'COUNT', 'ELAPSED_WEEK']\n",
    "df_new = df.loc[:,feature]\n",
    "\n",
    "x = df_new.drop('COUNT', axis=1)\n",
    "t = df_new['COUNT'].values.ravel()\n",
    "\n",
    "ct = ColumnTransformer([('label', OrdinalEncoder(), ['AD1', 'D_TYPE', 'GOODS_TYPE'])], remainder='passthrough')\n",
    "trans = ct.fit_transform(x)\n",
    "\n",
    "x_train, t_train = trans[:623579,:], t[:623579]\n",
    "x_test, t_test = trans[623579:,:], t[623579:]\n",
    "model = RandomForestRegressor()\n",
    "kfold = 5\n",
    "kfold_score = cross_val_score(model, x_train, t_train, cv=kfold, scoring='neg_mean_squared_error')\n",
    "print(f'mse : {np.mean(-kfold_score)}')\n",
    "print(f'rmse : {np.sqrt(np.mean(-kfold_score))}')"
   ]
  },
  {
   "cell_type": "code",
   "execution_count": 29,
   "metadata": {},
   "outputs": [
    {
     "name": "stdout",
     "output_type": "stream",
     "text": [
      "mse : 0.18413113459322947\n",
      "rmse : 0.42910503911423536\n"
     ]
    }
   ],
   "source": [
    "model = RandomForestRegressor()\n",
    "model.fit(x_train, t_train)\n",
    "pred = model.predict(x_test)\n",
    "mse = mean_squared_error(pred, t_test)\n",
    "rmse = np.sqrt(mse)\n",
    "print(f'mse : {mse}')\n",
    "print(f'rmse : {rmse}')"
   ]
  },
  {
   "cell_type": "code",
   "execution_count": 42,
   "metadata": {},
   "outputs": [
    {
     "data": {
      "text/html": [
       "<div>\n",
       "<style scoped>\n",
       "    .dataframe tbody tr th:only-of-type {\n",
       "        vertical-align: middle;\n",
       "    }\n",
       "\n",
       "    .dataframe tbody tr th {\n",
       "        vertical-align: top;\n",
       "    }\n",
       "\n",
       "    .dataframe thead th {\n",
       "        text-align: right;\n",
       "    }\n",
       "</style>\n",
       "<table border=\"1\" class=\"dataframe\">\n",
       "  <thead>\n",
       "    <tr style=\"text-align: right;\">\n",
       "      <th></th>\n",
       "      <th>mse</th>\n",
       "      <th>rmse</th>\n",
       "    </tr>\n",
       "  </thead>\n",
       "  <tbody>\n",
       "    <tr>\n",
       "      <th>기본 feature</th>\n",
       "      <td>0.3797</td>\n",
       "      <td>0.6162</td>\n",
       "    </tr>\n",
       "    <tr>\n",
       "      <th>기본 feature + 경과 시간</th>\n",
       "      <td>0.1743</td>\n",
       "      <td>0.4175</td>\n",
       "    </tr>\n",
       "    <tr>\n",
       "      <th>기본 feature + 경과 일</th>\n",
       "      <td>0.1732</td>\n",
       "      <td>0.4162</td>\n",
       "    </tr>\n",
       "    <tr>\n",
       "      <th>기본 feature + 경과 주</th>\n",
       "      <td>0.1786</td>\n",
       "      <td>0.4226</td>\n",
       "    </tr>\n",
       "    <tr>\n",
       "      <th>기본 feature + 요일</th>\n",
       "      <td>0.3789</td>\n",
       "      <td>0.6156</td>\n",
       "    </tr>\n",
       "    <tr>\n",
       "      <th>기본 feature + 경과 주 + 경과 일</th>\n",
       "      <td>0.1746</td>\n",
       "      <td>0.4179</td>\n",
       "    </tr>\n",
       "    <tr>\n",
       "      <th>기본 feature + 경과 주 + 요일</th>\n",
       "      <td>0.1818</td>\n",
       "      <td>0.4264</td>\n",
       "    </tr>\n",
       "    <tr>\n",
       "      <th>기본 feature + 경과 주 + 달 + 일 + 요일</th>\n",
       "      <td>0.1814</td>\n",
       "      <td>0.4259</td>\n",
       "    </tr>\n",
       "    <tr>\n",
       "      <th>기본 feature + 경과 주 + 달 + 일</th>\n",
       "      <td>0.1841</td>\n",
       "      <td>0.4291</td>\n",
       "    </tr>\n",
       "  </tbody>\n",
       "</table>\n",
       "</div>"
      ],
      "text/plain": [
       "                                   mse    rmse\n",
       "기본 feature                      0.3797  0.6162\n",
       "기본 feature + 경과 시간              0.1743  0.4175\n",
       "기본 feature + 경과 일               0.1732  0.4162\n",
       "기본 feature + 경과 주               0.1786  0.4226\n",
       "기본 feature + 요일                 0.3789  0.6156\n",
       "기본 feature + 경과 주 + 경과 일        0.1746  0.4179\n",
       "기본 feature + 경과 주 + 요일          0.1818  0.4264\n",
       "기본 feature + 경과 주 + 달 + 일 + 요일  0.1814  0.4259\n",
       "기본 feature + 경과 주 + 달 + 일       0.1841  0.4291"
      ]
     },
     "execution_count": 42,
     "metadata": {},
     "output_type": "execute_result"
    }
   ],
   "source": [
    "final_result = pd.DataFrame(columns = ['mse', 'rmse'])\n",
    "final_result.loc['기본 feature', : ] = [0.3797, 0.6162]\n",
    "final_result.loc['기본 feature + 경과 시간', : ] = [0.1743, 0.4175]\n",
    "final_result.loc['기본 feature + 경과 일', : ] = [0.1732, 0.4162]\n",
    "final_result.loc['기본 feature + 경과 주', : ] = [0.1786,  0.4226]\n",
    "final_result.loc['기본 feature + 요일', : ] = [0.3789,  0.6156]\n",
    "final_result.loc['기본 feature + 경과 주 + 경과 일', : ] = [0.1746,  0.4179]\n",
    "final_result.loc['기본 feature + 경과 주 + 요일', : ] = [0.1818,   0.4264]\n",
    "final_result.loc['기본 feature + 경과 주 + 달 + 일 + 요일', : ] = [0.1814,   0.4259]\n",
    "final_result.loc['기본 feature + 경과 주 + 달 + 일', : ] = [0.1855,   0.4307]\n",
    "final_result.loc['기본 feature + 경과 주 + 달 + 일', : ] = [0.1841,    0.4291]\n",
    "\n",
    "final_result"
   ]
  }
 ],
 "metadata": {
  "kernelspec": {
   "display_name": "Python [conda env:data_env] *",
   "language": "python",
   "name": "conda-env-data_env-py"
  },
  "language_info": {
   "codemirror_mode": {
    "name": "ipython",
    "version": 3
   },
   "file_extension": ".py",
   "mimetype": "text/x-python",
   "name": "python",
   "nbconvert_exporter": "python",
   "pygments_lexer": "ipython3",
   "version": "3.7.7"
  }
 },
 "nbformat": 4,
 "nbformat_minor": 4
}
